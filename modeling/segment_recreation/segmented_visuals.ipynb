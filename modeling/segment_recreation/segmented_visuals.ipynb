{
 "cells": [
  {
   "cell_type": "markdown",
   "id": "9622c07b-3025-4dd1-b396-e1b012b6fddc",
   "metadata": {},
   "source": [
    "### Import Libraries"
   ]
  },
  {
   "cell_type": "code",
   "execution_count": 1,
   "id": "ad911818-ac90-411f-b46c-ff8422c6237d",
   "metadata": {},
   "outputs": [],
   "source": [
    "import math\n",
    "import os\n",
    "import numpy as np\n",
    "import time\n",
    "import matplotlib.pyplot as plt\n",
    "from prettytable import PrettyTable\n",
    "from sklearn.model_selection import train_test_split\n",
    "from tqdm import tqdm\n",
    "from pathlib import Path\n",
    "import re\n",
    "from skimage.metrics  import structural_similarity as ssim\n",
    "import plotly.io as pio\n",
    "import plotly.express as px\n",
    "import pandas as pd\n",
    "import pickle\n",
    "import cv2\n",
    "import plotly.io as pio\n",
    "import plotly.express as px\n",
    "import itertools\n",
    "\n",
    "pio.renderers.default = 'iframe'"
   ]
  },
  {
   "cell_type": "markdown",
   "id": "0678cd90-3213-4588-a072-34188b9fb009",
   "metadata": {},
   "source": [
    "### Define Paths"
   ]
  },
  {
   "cell_type": "code",
   "execution_count": 2,
   "id": "32c301d2-0e8d-44f4-9098-190a75422d66",
   "metadata": {},
   "outputs": [],
   "source": [
    "research_dir = r\"D:/school/research\"\n",
    "code_dir = os.path.join(research_dir, \"code\")\n",
    "p2_dir = os.path.join(code_dir, \"paper_two_code\")\n",
    "model_dir = os.path.join(p2_dir, \"models\")\n",
    "metrics_dir = os.path.join(p2_dir, \"metrics\")\n",
    "seg_metrics_dir = os.path.join(metrics_dir, \"seg_to_seg\")"
   ]
  },
  {
   "cell_type": "markdown",
   "id": "f3897e3d-21ca-4f12-a880-3a9028747ffa",
   "metadata": {},
   "source": [
    "### Helpers"
   ]
  },
  {
   "cell_type": "code",
   "execution_count": 3,
   "id": "075b53eb-b393-4a09-b8f4-3f9fe59d6973",
   "metadata": {},
   "outputs": [],
   "source": [
    "segment_info = [\n",
    "    \"Cerebrospinal Fluid\",\n",
    "    \"Cortical Grey Matter\",\n",
    "    \"White Matter\",\n",
    "    \"Background\",\n",
    "    \"Ventricle\",\n",
    "    \"Cerebelum\",\n",
    "    \"Deep Grey Matter\",\n",
    "    \"Brainstem\",\n",
    "    \"Hippocampus\"\n",
    "]\n",
    "\n",
    "std_bands = [\n",
    "    {\n",
    "        \"range\": \"-inf to -4\",\n",
    "        \"low\": -np.inf,\n",
    "        \"high\": -4\n",
    "    },\n",
    "    {\n",
    "        \"range\": \"-4 to -3\",\n",
    "        \"low\": -4,\n",
    "        \"high\": -3\n",
    "    },\n",
    "    {\n",
    "        \"range\": \"-3 to -2\",\n",
    "        \"low\": -3,\n",
    "        \"high\": -2\n",
    "    },\n",
    "    {\n",
    "        \"range\": \"2 to 3\",\n",
    "        \"low\": 2,\n",
    "        \"high\": 3\n",
    "    },\n",
    "    {\n",
    "        \"range\": \"3 to 4\",\n",
    "        \"low\": 3,\n",
    "        \"high\": 4\n",
    "    },\n",
    "    {\n",
    "        \"range\": \"4 to inf\",\n",
    "        \"low\": 4,\n",
    "        \"high\": np.inf\n",
    "    }\n",
    "]\n"
   ]
  },
  {
   "cell_type": "markdown",
   "id": "b9284152-e192-44b9-9a0a-e042896ee8c4",
   "metadata": {},
   "source": [
    "### Get All Metrics"
   ]
  },
  {
   "cell_type": "code",
   "execution_count": 18,
   "id": "4d79757f-11bd-41f0-93c8-51693bcca021",
   "metadata": {},
   "outputs": [
    {
     "data": {
      "text/plain": [
       "'T2 OPS'"
      ]
     },
     "execution_count": 18,
     "metadata": {},
     "output_type": "execute_result"
    }
   ],
   "source": [
    "model_name"
   ]
  },
  {
   "cell_type": "code",
   "execution_count": 20,
   "id": "5bce8c5f-1825-4c21-a6eb-373f83699589",
   "metadata": {},
   "outputs": [],
   "source": [
    "segments = []\n",
    "model = []\n",
    "runs = []\n",
    "all_losses = []\n",
    "all_clusters = []\n",
    "\n",
    "\n",
    "models = {\n",
    "    \n",
    "    \"T1 AIO\": \"seg9_to_seg9\",\n",
    "    \"T1 OPS\": \"overall_single_seg_t1\",\n",
    "    \"T2 AIO\": \"seg9_to_seg9\",\n",
    "    \"T2 OPS\": \"overall_single_seg_t2\",\n",
    "}\n",
    "\n",
    "for model_name in models.keys():\n",
    "    for run in [\"train\", \"val\", \"test\"]:\n",
    "        prefix = f\"{models[model_name]}_{run}\"\n",
    "        losses = np.load(os.path.join(seg_metrics_dir, f\"{prefix}_losses.npy\"), allow_pickle=True)\n",
    "        # segment_losses = np.load(os.path.join(seg_metrics_dir, f\"{prefix}_segment_losses.npy\"), allow_pickle=True).item()\n",
    "        clusters= np.load(os.path.join(seg_metrics_dir, f\"{prefix}_clusters.npy\"), allow_pickle=True)\n",
    "        # segment_clusters = np.load(os.path.join(seg_metrics_dir, f\"{prefix}_segment_clusters.npy\"), allow_pickle=True).item()\n",
    "\n",
    "        # Overall losses\n",
    "        model.extend([model_name for x in range(0, len(losses))])\n",
    "        runs.extend([run.capitalize() for x in range(0, len(losses))])\n",
    "        all_losses.extend(losses)\n",
    "        all_clusters.extend(clusters)\n",
    "\n",
    "\n",
    "loss_df = pd.DataFrame({\"Model\": model, \"Runs\": runs, \"Losses\": all_losses, \"Clusters\": all_clusters})"
   ]
  },
  {
   "cell_type": "code",
   "execution_count": 26,
   "id": "36540132-e5aa-4e56-abca-ccbf9e1aa5cc",
   "metadata": {},
   "outputs": [
    {
     "data": {
      "text/html": [
       "<iframe\n",
       "    scrolling=\"no\"\n",
       "    width=\"100%\"\n",
       "    height=\"545px\"\n",
       "    src=\"iframe_figures/figure_26.html\"\n",
       "    frameborder=\"0\"\n",
       "    allowfullscreen\n",
       "></iframe>\n"
      ]
     },
     "metadata": {},
     "output_type": "display_data"
    }
   ],
   "source": [
    "fig = px.box(\n",
    "    loss_df,\n",
    "    x=\"Model\",\n",
    "    y=\"Losses\",\n",
    "    color=\"Runs\",\n",
    "    color_discrete_map={\n",
    "        \"Train\": \"green\",\n",
    "        \"Val\": \"orange\",\n",
    "        \"Test\": \"red\"\n",
    "    }\n",
    ")\n",
    "fig.update_traces(quartilemethod=\"exclusive\")\n",
    "fig.update_layout(\n",
    "    xaxis_title=\"Model Version\",\n",
    "    yaxis_title=\"Loss (MSE)\",\n",
    "    legend_title=\"Run Name\",\n",
    "    font=dict(\n",
    "        family=\"Arial\",\n",
    "        size=28\n",
    "    )\n",
    ")\n",
    "# fig.update_yaxes(range=[0, 0.005])\n",
    "fig.show()\n",
    "fig.write_image(\"figures/segmented_losses.png\", width=2000, height=700)"
   ]
  },
  {
   "cell_type": "code",
   "execution_count": 28,
   "id": "aca03569-1e88-43c1-9147-a1a4c9ad4e71",
   "metadata": {},
   "outputs": [
    {
     "data": {
      "text/html": [
       "<iframe\n",
       "    scrolling=\"no\"\n",
       "    width=\"100%\"\n",
       "    height=\"545px\"\n",
       "    src=\"iframe_figures/figure_28.html\"\n",
       "    frameborder=\"0\"\n",
       "    allowfullscreen\n",
       "></iframe>\n"
      ]
     },
     "metadata": {},
     "output_type": "display_data"
    }
   ],
   "source": [
    "fig = px.box(\n",
    "    loss_df,\n",
    "    x=\"Model\",\n",
    "    y=\"Clusters\",\n",
    "    color=\"Runs\",\n",
    "    color_discrete_map={\n",
    "        \"Train\": \"green\",\n",
    "        \"Val\": \"orange\",\n",
    "        \"Test\": \"red\"\n",
    "    }\n",
    ")\n",
    "fig.update_traces(quartilemethod=\"exclusive\")\n",
    "fig.update_layout(\n",
    "    xaxis_title=\"Model Version\",\n",
    "    yaxis_title=\"Cluster Size (Pixels)\",\n",
    "    legend_title=\"Run Name\",\n",
    "    font=dict(\n",
    "        family=\"Arial\",\n",
    "        size=28\n",
    "    )\n",
    ")\n",
    "# fig.update_yaxes(range=[0, 0.005])\n",
    "fig.show()\n",
    "fig.write_image(\"figures/segmented_clusters.png\", width=2000, height=700)"
   ]
  },
  {
   "cell_type": "markdown",
   "id": "472dc816-4f26-4a8a-b42b-415bcb12c067",
   "metadata": {},
   "source": [
    "### Get T2 9 to 9 Metrics"
   ]
  },
  {
   "cell_type": "code",
   "execution_count": 12,
   "id": "2631c5b6-fe6a-434d-9332-2e66610ef5cc",
   "metadata": {},
   "outputs": [],
   "source": [
    "segments = []\n",
    "runs = []\n",
    "all_losses = []\n",
    "all_clusters = []\n",
    "\n",
    "total_pixels = 256**3\n",
    "pixels = []\n",
    "pixel_runs = []\n",
    "pixel_band = []\n",
    "pixel_segment = []\n",
    "\n",
    "cluster_runs = []\n",
    "cluster_models = []\n",
    "cluster_band = []\n",
    "\n",
    "for run in [\"train\", \"val\", \"test\"]:\n",
    "    prefix = f\"seg9_to_seg9_{run}\"\n",
    "    losses = np.load(os.path.join(seg_metrics_dir, f\"{prefix}_losses.npy\"), allow_pickle=True)\n",
    "    segment_losses = np.load(os.path.join(seg_metrics_dir, f\"{prefix}_segment_losses.npy\"), allow_pickle=True).item()\n",
    "    clusters= np.load(os.path.join(seg_metrics_dir, f\"{prefix}_clusters.npy\"), allow_pickle=True)\n",
    "    segment_clusters = np.load(os.path.join(seg_metrics_dir, f\"{prefix}_segment_clusters.npy\"), allow_pickle=True).item()\n",
    "    \n",
    "    # Overall losses\n",
    "    segments.extend([\"Overall\" for x in range(0, len(losses))])\n",
    "    runs.extend([run.capitalize() for x in range(0, len(losses))])\n",
    "    all_losses.extend(losses)\n",
    "    all_clusters.extend(clusters)\n",
    "    \n",
    "#     # Segment losses\n",
    "#     for segment in segment_losses.keys():\n",
    "#         sl = segment_losses[segment]\n",
    "#         sc = segment_clusters[segment]\n",
    "#         segments.extend([segment for x in range(0, len(sl))])\n",
    "#         runs.extend([run.capitalize() for x in range(0, len(sl))])\n",
    "#         all_losses.extend(sl)\n",
    "#         all_clusters.extend(sc)\n",
    "    \n",
    "    \n",
    "#     with open(os.path.join(seg_metrics_dir, f\"{prefix}_banded_metrics.pkl\"), \"rb\") as f:\n",
    "#         bands = pickle.load(f)\n",
    "#     with open(os.path.join(seg_metrics_dir, f\"{prefix}_banded_segment_metrics.pkl\"), \"rb\") as f:\n",
    "#         segment_bands = pickle.load(f)\n",
    "    \n",
    "    \n",
    "#     # Get pixel percents\n",
    "#     for band in [x[\"range\"] for x in std_bands]:\n",
    "#         pix = np.mean([(x / total_pixels) * 100 for x in bands[f\"{band} pixels\"]])\n",
    "#         pixels.append(pix)\n",
    "#         pixel_runs.append(run.capitalize())\n",
    "#         pixel_band.append(band)\n",
    "#         pixel_segment.append(\"Overall\")\n",
    "        \n",
    "#         clust = np.mean([np.mean(x) for x in bands[f\"{band} clusters\"]])\n",
    "#         cluster_band.append(clust)\n",
    "        \n",
    "#         for segment in segment_info:\n",
    "#             pix = np.mean([(x / total_pixels) * 100 for x in segment_bands[f\"{band} pixels\"][segment]])\n",
    "#             pixels.append(pix)\n",
    "#             pixel_runs.append(run.capitalize())\n",
    "#             pixel_band.append(band)\n",
    "#             pixel_segment.append(segment)\n",
    "            \n",
    "#             clust = np.mean([np.mean(x) for x in segment_bands[f\"{band} clusters\"][segment]])\n",
    "#             cluster_band.append(clust)\n",
    "            # seg_band_pixels = \n",
    "        \n",
    "    # # Get average clusters\n",
    "    # for band in [x[\"range\"] for x in std_bands]:\n",
    "    #     clust = np.mean([np.mean(x) for x in bands[f\"{band} clusters\"]])\n",
    "    #     clusters.append(clust)\n",
    "\n",
    "# loss_df = pd.DataFrame({\"Runs\": runs, \"Segments\": segments, \"Losses\": all_losses, \"Clusters\": all_clusters})\n",
    "\n",
    "banded_df = pd.DataFrame({\"Runs\": pixel_runs, \"Segment\": pixel_segment, \"Band\": pixel_band, \"Pixels Percentage\": pixels, \"Clusters\": cluster_band})\n",
    "\n",
    "t2_9to9_df = loss_df.copy()"
   ]
  },
  {
   "cell_type": "code",
   "execution_count": 51,
   "id": "a62f2ddd-d203-49cf-8a8e-024f5d87dd22",
   "metadata": {},
   "outputs": [
    {
     "data": {
      "text/html": [
       "<iframe\n",
       "    scrolling=\"no\"\n",
       "    width=\"100%\"\n",
       "    height=\"545px\"\n",
       "    src=\"iframe_figures/figure_51.html\"\n",
       "    frameborder=\"0\"\n",
       "    allowfullscreen\n",
       "></iframe>\n"
      ]
     },
     "metadata": {},
     "output_type": "display_data"
    }
   ],
   "source": [
    "fig = px.box(\n",
    "    loss_df,\n",
    "    x=\"Segments\",\n",
    "    y=\"Losses\",\n",
    "    color=\"Runs\",\n",
    "    color_discrete_map={\n",
    "        \"Train\": \"green\",\n",
    "        \"Val\": \"orange\",\n",
    "        \"Test\": \"red\"\n",
    "    }\n",
    ")\n",
    "fig.update_traces(quartilemethod=\"exclusive\")\n",
    "fig.update_layout(\n",
    "    xaxis_title=\"Model Version\",\n",
    "    yaxis_title=\"Loss (MSE)\",\n",
    "    legend_title=\"Run Name\",\n",
    "    font=dict(\n",
    "        family=\"Arial\",\n",
    "        size=28\n",
    "    )\n",
    ")\n",
    "fig.update_yaxes(range=[0, 0.02])\n",
    "fig.show()\n",
    "fig.write_image(\"figures/segmented_losses_t2_9to9.png\", width=2000, height=700)"
   ]
  },
  {
   "cell_type": "code",
   "execution_count": 52,
   "id": "e25976b4-c11e-46b5-9969-e9f96d105c86",
   "metadata": {},
   "outputs": [
    {
     "data": {
      "text/html": [
       "<iframe\n",
       "    scrolling=\"no\"\n",
       "    width=\"100%\"\n",
       "    height=\"545px\"\n",
       "    src=\"iframe_figures/figure_52.html\"\n",
       "    frameborder=\"0\"\n",
       "    allowfullscreen\n",
       "></iframe>\n"
      ]
     },
     "metadata": {},
     "output_type": "display_data"
    }
   ],
   "source": [
    "fig = px.box(\n",
    "    loss_df,\n",
    "    x=\"Segments\",\n",
    "    y=\"Clusters\",\n",
    "    color=\"Runs\",\n",
    "    color_discrete_map={\n",
    "        \"Train\": \"green\",\n",
    "        \"Val\": \"orange\",\n",
    "        \"Test\": \"red\"\n",
    "    }\n",
    ")\n",
    "fig.update_traces(quartilemethod=\"exclusive\") \n",
    "fig.update_layout(\n",
    "    yaxis_title=\"Cluster Size (Pixels)\",\n",
    "    legend_title=\"Run Name\",\n",
    "    font=dict(\n",
    "        family=\"Arial\",\n",
    "        size=28\n",
    "    )\n",
    ")\n",
    "fig.update_yaxes(range=[0, 1200])\n",
    "fig.show()\n",
    "fig.write_image(\"figures/segmented_clusters_t2_9to9.png\", width=2000, height=700)"
   ]
  },
  {
   "cell_type": "code",
   "execution_count": 53,
   "id": "b2d15eff-4f4e-4a04-a7d9-6e1a46764c6d",
   "metadata": {},
   "outputs": [
    {
     "data": {
      "text/html": [
       "<iframe\n",
       "    scrolling=\"no\"\n",
       "    width=\"100%\"\n",
       "    height=\"545px\"\n",
       "    src=\"iframe_figures/figure_53.html\"\n",
       "    frameborder=\"0\"\n",
       "    allowfullscreen\n",
       "></iframe>\n"
      ]
     },
     "metadata": {},
     "output_type": "display_data"
    }
   ],
   "source": [
    "fig = px.bar(\n",
    "    banded_df,\n",
    "    x=\"Runs\",\n",
    "    y=\"Pixels Percentage\",\n",
    "    color=\"Band\",\n",
    "    facet_col=\"Segment\",\n",
    "    color_discrete_map={\n",
    "        \"-inf to -4\": \"#003d9e\",\n",
    "        \"-4 to -3\": \"#3272d9\",\n",
    "        \"-3 to -2\": \"#80acf2\",\n",
    "        \"2 to 3\": \"#f28080\",\n",
    "        \"3 to 4\": \"#d14343\",\n",
    "        \"4 to inf\": \"#a10606\"\n",
    "    }\n",
    ")\n",
    "fig.for_each_annotation(lambda a: a.update(text=a.text.split(\"=\")[-1]))\n",
    "fig.for_each_xaxis(lambda x: x.update(title = ''))\n",
    "fig.update_layout(\n",
    "    font=dict(\n",
    "        family=\"Arial\",\n",
    "        size=18\n",
    "    )\n",
    ")\n",
    "fig.update_yaxes(range=[0, 7])\n",
    "fig.show()\n",
    "fig.write_image(\"figures/segmented_banded_pixels_t2_9to9.png\", width=2000, height=500)"
   ]
  },
  {
   "cell_type": "code",
   "execution_count": 54,
   "id": "26d76e06-6eb9-4ac0-a35b-216a3bcd76fa",
   "metadata": {},
   "outputs": [
    {
     "data": {
      "text/html": [
       "<iframe\n",
       "    scrolling=\"no\"\n",
       "    width=\"100%\"\n",
       "    height=\"545px\"\n",
       "    src=\"iframe_figures/figure_54.html\"\n",
       "    frameborder=\"0\"\n",
       "    allowfullscreen\n",
       "></iframe>\n"
      ]
     },
     "metadata": {},
     "output_type": "display_data"
    }
   ],
   "source": [
    "fig = px.bar(\n",
    "    banded_df,\n",
    "    x=\"Runs\",\n",
    "    y=\"Clusters\",\n",
    "    color=\"Band\",\n",
    "    facet_col=\"Segment\",\n",
    "    color_discrete_map={\n",
    "        \"-inf to -4\": \"#003d9e\",\n",
    "        \"-4 to -3\": \"#3272d9\",\n",
    "        \"-3 to -2\": \"#80acf2\",\n",
    "        \"2 to 3\": \"#f28080\",\n",
    "        \"3 to 4\": \"#d14343\",\n",
    "        \"4 to inf\": \"#a10606\"\n",
    "    }\n",
    ")\n",
    "fig.for_each_annotation(lambda a: a.update(text=a.text.split(\"=\")[-1]))\n",
    "fig.for_each_xaxis(lambda x: x.update(title = ''))\n",
    "fig.update_layout(\n",
    "    font=dict(\n",
    "        family=\"Arial\",\n",
    "        size=18\n",
    "    )\n",
    ")\n",
    "fig.update_yaxes(range=[0, 175])\n",
    "fig.show()\n",
    "fig.write_image(\"figures/segmented_banded_clusters_t2_9to9.png\", width=2000, height=500)"
   ]
  },
  {
   "cell_type": "markdown",
   "id": "568f6d11-2651-41d3-8f43-ee58a682d95e",
   "metadata": {},
   "source": [
    "### Get T1 9 to 9 Metrics"
   ]
  },
  {
   "cell_type": "code",
   "execution_count": 55,
   "id": "5873a214-7a05-4bcb-b788-d54af0fd0079",
   "metadata": {},
   "outputs": [],
   "source": [
    "segments = []\n",
    "runs = []\n",
    "all_losses = []\n",
    "all_clusters = []\n",
    "\n",
    "total_pixels = 256**3\n",
    "pixels = []\n",
    "pixel_runs = []\n",
    "pixel_band = []\n",
    "pixel_segment = []\n",
    "\n",
    "cluster_runs = []\n",
    "cluster_models = []\n",
    "cluster_band = []\n",
    "\n",
    "for run in [\"train\", \"val\", \"test\"]:\n",
    "    prefix = f\"seg9_to_seg9_t1_{run}\"\n",
    "    losses = np.load(os.path.join(seg_metrics_dir, f\"{prefix}_losses.npy\"), allow_pickle=True)\n",
    "    segment_losses = np.load(os.path.join(seg_metrics_dir, f\"{prefix}_segment_losses.npy\"), allow_pickle=True).item()\n",
    "    clusters= np.load(os.path.join(seg_metrics_dir, f\"{prefix}_clusters.npy\"), allow_pickle=True)\n",
    "    segment_clusters = np.load(os.path.join(seg_metrics_dir, f\"{prefix}_segment_clusters.npy\"), allow_pickle=True).item()\n",
    "    \n",
    "    # Overall losses\n",
    "    segments.extend([\"Overall\" for x in range(0, len(losses))])\n",
    "    runs.extend([run.capitalize() for x in range(0, len(losses))])\n",
    "    all_losses.extend(losses)\n",
    "    all_clusters.extend(clusters)\n",
    "    \n",
    "    # Segment losses\n",
    "    for segment in segment_losses.keys():\n",
    "        sl = segment_losses[segment]\n",
    "        sc = segment_clusters[segment]\n",
    "        segments.extend([segment for x in range(0, len(sl))])\n",
    "        runs.extend([run.capitalize() for x in range(0, len(sl))])\n",
    "        all_losses.extend(sl)\n",
    "        all_clusters.extend(sc)\n",
    "    \n",
    "    \n",
    "    with open(os.path.join(seg_metrics_dir, f\"{prefix}_banded_metrics.pkl\"), \"rb\") as f:\n",
    "        bands = pickle.load(f)\n",
    "    with open(os.path.join(seg_metrics_dir, f\"{prefix}_banded_segment_metrics.pkl\"), \"rb\") as f:\n",
    "        segment_bands = pickle.load(f)\n",
    "    \n",
    "    \n",
    "    # Get pixel percents\n",
    "    for band in [x[\"range\"] for x in std_bands]:\n",
    "        pix = np.mean([(x / total_pixels) * 100 for x in bands[f\"{band} pixels\"]])\n",
    "        pixels.append(pix)\n",
    "        pixel_runs.append(run.capitalize())\n",
    "        pixel_band.append(band)\n",
    "        pixel_segment.append(\"Overall\")\n",
    "        \n",
    "        clust = np.mean([np.mean(x) for x in bands[f\"{band} clusters\"]])\n",
    "        cluster_band.append(clust)\n",
    "        \n",
    "        for segment in segment_info:\n",
    "            pix = np.mean([(x / total_pixels) * 100 for x in segment_bands[f\"{band} pixels\"][segment]])\n",
    "            pixels.append(pix)\n",
    "            pixel_runs.append(run.capitalize())\n",
    "            pixel_band.append(band)\n",
    "            pixel_segment.append(segment)\n",
    "            \n",
    "            clust = np.mean([np.mean(x) for x in segment_bands[f\"{band} clusters\"][segment]])\n",
    "            cluster_band.append(clust)\n",
    "            # seg_band_pixels = \n",
    "        \n",
    "    # # Get average clusters\n",
    "    # for band in [x[\"range\"] for x in std_bands]:\n",
    "    #     clust = np.mean([np.mean(x) for x in bands[f\"{band} clusters\"]])\n",
    "    #     clusters.append(clust)\n",
    "\n",
    "loss_df = pd.DataFrame({\"Runs\": runs, \"Segments\": segments, \"Losses\": all_losses, \"Clusters\": all_clusters})\n",
    "\n",
    "banded_df = pd.DataFrame({\"Runs\": pixel_runs, \"Segment\": pixel_segment, \"Band\": pixel_band, \"Pixels Percentage\": pixels, \"Clusters\": cluster_band})\n",
    "\n",
    "t1_9to9_df = loss_df.copy()"
   ]
  },
  {
   "cell_type": "code",
   "execution_count": 56,
   "id": "51c069fd-3a62-4bf4-accb-37a013153557",
   "metadata": {},
   "outputs": [
    {
     "data": {
      "text/html": [
       "<iframe\n",
       "    scrolling=\"no\"\n",
       "    width=\"100%\"\n",
       "    height=\"545px\"\n",
       "    src=\"iframe_figures/figure_56.html\"\n",
       "    frameborder=\"0\"\n",
       "    allowfullscreen\n",
       "></iframe>\n"
      ]
     },
     "metadata": {},
     "output_type": "display_data"
    }
   ],
   "source": [
    "fig = px.box(\n",
    "    loss_df,\n",
    "    x=\"Segments\",\n",
    "    y=\"Losses\",\n",
    "    color=\"Runs\",\n",
    "    color_discrete_map={\n",
    "        \"Train\": \"green\",\n",
    "        \"Val\": \"orange\",\n",
    "        \"Test\": \"red\"\n",
    "    }\n",
    ")\n",
    "fig.update_traces(quartilemethod=\"exclusive\")\n",
    "fig.update_layout(\n",
    "    xaxis_title=\"Model Version\",\n",
    "    yaxis_title=\"Loss (MSE)\",\n",
    "    legend_title=\"Run Name\",\n",
    "    font=dict(\n",
    "        family=\"Arial\",\n",
    "        size=28\n",
    "    )\n",
    ")\n",
    "fig.update_yaxes(range=[0, 0.02])\n",
    "fig.show()\n",
    "fig.write_image(\"figures/segmented_losses_t1_9to9.png\", width=2000, height=700)"
   ]
  },
  {
   "cell_type": "code",
   "execution_count": 57,
   "id": "f85c8d91-eb00-4261-838e-28589c568dd3",
   "metadata": {},
   "outputs": [
    {
     "data": {
      "text/html": [
       "<iframe\n",
       "    scrolling=\"no\"\n",
       "    width=\"100%\"\n",
       "    height=\"545px\"\n",
       "    src=\"iframe_figures/figure_57.html\"\n",
       "    frameborder=\"0\"\n",
       "    allowfullscreen\n",
       "></iframe>\n"
      ]
     },
     "metadata": {},
     "output_type": "display_data"
    }
   ],
   "source": [
    "fig = px.box(\n",
    "    loss_df,\n",
    "    x=\"Segments\",\n",
    "    y=\"Clusters\",\n",
    "    color=\"Runs\",\n",
    "    color_discrete_map={\n",
    "        \"Train\": \"green\",\n",
    "        \"Val\": \"orange\",\n",
    "        \"Test\": \"red\"\n",
    "    }\n",
    ")\n",
    "fig.update_traces(quartilemethod=\"exclusive\")\n",
    "fig.update_layout(\n",
    "    xaxis_title=\"Model Version\",\n",
    "    yaxis_title=\"Cluster Size (Pixels)\",\n",
    "    legend_title=\"Run Name\",\n",
    "    font=dict(\n",
    "        family=\"Arial\",\n",
    "        size=28\n",
    "    )\n",
    ")\n",
    "fig.update_yaxes(range=[0, 1200])\n",
    "fig.show()\n",
    "fig.write_image(\"figures/segmented_clusters_t1_9to9.png\", width=2000, height=700)"
   ]
  },
  {
   "cell_type": "code",
   "execution_count": 58,
   "id": "b07165f6-99e7-423f-bd10-71be46eb81b8",
   "metadata": {},
   "outputs": [
    {
     "data": {
      "text/html": [
       "<iframe\n",
       "    scrolling=\"no\"\n",
       "    width=\"100%\"\n",
       "    height=\"545px\"\n",
       "    src=\"iframe_figures/figure_58.html\"\n",
       "    frameborder=\"0\"\n",
       "    allowfullscreen\n",
       "></iframe>\n"
      ]
     },
     "metadata": {},
     "output_type": "display_data"
    }
   ],
   "source": [
    "fig = px.bar(\n",
    "    banded_df,\n",
    "    x=\"Runs\",\n",
    "    y=\"Pixels Percentage\",\n",
    "    color=\"Band\",\n",
    "    facet_col=\"Segment\",\n",
    "    color_discrete_map={\n",
    "        \"-inf to -4\": \"#003d9e\",\n",
    "        \"-4 to -3\": \"#3272d9\",\n",
    "        \"-3 to -2\": \"#80acf2\",\n",
    "        \"2 to 3\": \"#f28080\",\n",
    "        \"3 to 4\": \"#d14343\",\n",
    "        \"4 to inf\": \"#a10606\"\n",
    "    }\n",
    ")\n",
    "fig.for_each_annotation(lambda a: a.update(text=a.text.split(\"=\")[-1]))\n",
    "fig.for_each_xaxis(lambda x: x.update(title = ''))\n",
    "fig.update_layout(\n",
    "    font=dict(\n",
    "        family=\"Arial\",\n",
    "        size=18\n",
    "    )\n",
    ")\n",
    "fig.update_yaxes(range=[0, 7])\n",
    "fig.show()\n",
    "fig.write_image(\"figures/segmented_banded_pixels_t1_9to9.png\", width=2000, height=500)"
   ]
  },
  {
   "cell_type": "code",
   "execution_count": 59,
   "id": "7afce196-2f6b-4fe8-9340-edbc2763eab6",
   "metadata": {},
   "outputs": [
    {
     "data": {
      "text/html": [
       "<iframe\n",
       "    scrolling=\"no\"\n",
       "    width=\"100%\"\n",
       "    height=\"545px\"\n",
       "    src=\"iframe_figures/figure_59.html\"\n",
       "    frameborder=\"0\"\n",
       "    allowfullscreen\n",
       "></iframe>\n"
      ]
     },
     "metadata": {},
     "output_type": "display_data"
    }
   ],
   "source": [
    "fig = px.bar(\n",
    "    banded_df,\n",
    "    x=\"Runs\",\n",
    "    y=\"Clusters\",\n",
    "    color=\"Band\",\n",
    "    facet_col=\"Segment\",\n",
    "    color_discrete_map={\n",
    "        \"-inf to -4\": \"#003d9e\",\n",
    "        \"-4 to -3\": \"#3272d9\",\n",
    "        \"-3 to -2\": \"#80acf2\",\n",
    "        \"2 to 3\": \"#f28080\",\n",
    "        \"3 to 4\": \"#d14343\",\n",
    "        \"4 to inf\": \"#a10606\"\n",
    "    }\n",
    ")\n",
    "fig.for_each_annotation(lambda a: a.update(text=a.text.split(\"=\")[-1]))\n",
    "fig.for_each_xaxis(lambda x: x.update(title = ''))\n",
    "fig.update_layout(\n",
    "    font=dict(\n",
    "        family=\"Arial\",\n",
    "        size=18\n",
    "    )\n",
    ")\n",
    "fig.update_yaxes(range=[0, 175])\n",
    "fig.show()\n",
    "fig.write_image(\"figures/segmented_banded_clusters_t1_9to9.png\", width=2000, height=500)"
   ]
  },
  {
   "cell_type": "markdown",
   "id": "10849d48-a67d-4bfd-9a6b-322d77b8e07a",
   "metadata": {},
   "source": [
    "### Get T2 1 to 1 Metrics"
   ]
  },
  {
   "cell_type": "code",
   "execution_count": 60,
   "id": "ede53f9a-5fea-4852-bb26-d068a341dba2",
   "metadata": {},
   "outputs": [],
   "source": [
    "seg1_runs = []\n",
    "seg1_segments = []\n",
    "seg1_losses = []\n",
    "seg1_clusters = []\n",
    "\n",
    "total_pixels = 256**3\n",
    "pixels = []\n",
    "pixel_runs = []\n",
    "pixel_band = []\n",
    "pixel_segment = []\n",
    "\n",
    "cluster_runs = []\n",
    "cluster_models = []\n",
    "cluster_band = []\n",
    "\n",
    "\n",
    "for run in [\"train\", \"val\", \"test\"]:\n",
    "    # overall metrics\n",
    "    prefix = f\"overall_single_seg_t2_{run}\"\n",
    "    overall_losses = np.load(os.path.join(seg_metrics_dir, f\"{prefix}_losses.npy\"))\n",
    "    overall_clusters = np.load(os.path.join(seg_metrics_dir, f\"{prefix}_clusters.npy\"))\n",
    "    with open(os.path.join(seg_metrics_dir, f\"{prefix}_banded_metrics.pkl\"), \"rb\") as f:\n",
    "        overall_bands = pickle.load(f)\n",
    "\n",
    "    seg1_runs.extend([run.capitalize() for x in range(0, len(overall_losses))])\n",
    "    seg1_segments.extend([\"Overall\" for x in range(0, len(overall_losses))])\n",
    "    seg1_losses.extend(overall_losses)\n",
    "    seg1_clusters.extend(overall_clusters)\n",
    "\n",
    "    # Get pixel percents\n",
    "    for band in [x[\"range\"] for x in std_bands]:\n",
    "        pix = np.mean([(x / total_pixels) * 100 for x in np.nan_to_num(overall_bands[f\"{band} pixels\"])])\n",
    "        pixels.append(pix)\n",
    "        pixel_runs.append(run.capitalize())\n",
    "        pixel_band.append(band)\n",
    "        pixel_segment.append(\"Overall\")\n",
    "\n",
    "        clust = np.mean([np.mean(x) for x in np.nan_to_num(overall_bands[f\"{band} clusters\"])])\n",
    "        cluster_band.append(clust)\n",
    "\n",
    "for idx, segment in enumerate(segment_info):\n",
    "    for run in [\"train\", \"val\", \"test\"]:\n",
    "        # segmented metrics\n",
    "        prefix = f\"seg{idx}_{run}\"\n",
    "        seg_losses = np.load(os.path.join(seg_metrics_dir, f\"{prefix}_losses.npy\"))\n",
    "        seg_clusters = np.load(os.path.join(seg_metrics_dir, f\"{prefix}_clusters.npy\"))\n",
    "        with open(os.path.join(seg_metrics_dir, f\"{prefix}_banded_metrics.pkl\"), \"rb\") as f:\n",
    "            seg_bands = pickle.load(f)\n",
    "        \n",
    "        seg1_runs.extend([run.capitalize() for x in range(0, len(seg_losses))])\n",
    "        seg1_segments.extend([segment for x in range(0, len(seg_losses))])\n",
    "        seg1_losses.extend(seg_losses)\n",
    "        seg1_clusters.extend(seg_clusters)\n",
    "        \n",
    "        # Get pixel percents\n",
    "        for band in [x[\"range\"] for x in std_bands]:\n",
    "            pix = np.mean([(x / total_pixels) * 100 for x in np.nan_to_num(seg_bands[f\"{band} pixels\"])])\n",
    "            pixels.append(pix)\n",
    "            pixel_runs.append(run.capitalize())\n",
    "            pixel_band.append(band)\n",
    "            pixel_segment.append(segment)\n",
    "\n",
    "            clust = np.mean([np.mean(x) for x in np.nan_to_num(seg_bands[f\"{band} clusters\"])])\n",
    "            cluster_band.append(clust)\n",
    "    \n",
    "seg1_df = pd.DataFrame({\"Runs\": seg1_runs, \"Segment\": seg1_segments, \"Losses\": seg1_losses, \"Clusters\": seg1_clusters})\n",
    "\n",
    "seg1_banded_df = pd.DataFrame({\"Runs\": pixel_runs, \"Segment\": pixel_segment, \"Band\": pixel_band, \"Pixels Percentage\": pixels, \"Clusters\": cluster_band})\n",
    "\n",
    "t2_1to1_df = seg1_df.copy()"
   ]
  },
  {
   "cell_type": "code",
   "execution_count": 61,
   "id": "e47c8589-6684-41c4-b7ad-3224c0589618",
   "metadata": {},
   "outputs": [
    {
     "data": {
      "text/html": [
       "<iframe\n",
       "    scrolling=\"no\"\n",
       "    width=\"100%\"\n",
       "    height=\"545px\"\n",
       "    src=\"iframe_figures/figure_61.html\"\n",
       "    frameborder=\"0\"\n",
       "    allowfullscreen\n",
       "></iframe>\n"
      ]
     },
     "metadata": {},
     "output_type": "display_data"
    }
   ],
   "source": [
    "fig = px.box(\n",
    "    seg1_df,\n",
    "    x=\"Segment\",\n",
    "    y=\"Losses\",\n",
    "    color=\"Runs\",\n",
    "    color_discrete_map={\n",
    "        \"Train\": \"green\",\n",
    "        \"Val\": \"orange\",\n",
    "        \"Test\": \"red\"\n",
    "    }\n",
    ")\n",
    "fig.update_traces(quartilemethod=\"exclusive\")\n",
    "fig.update_layout(\n",
    "    xaxis_title=\"Model Version\",\n",
    "    yaxis_title=\"Loss (MSE)\",\n",
    "    legend_title=\"Run Name\",\n",
    "    font=dict(\n",
    "        family=\"Arial\",\n",
    "        size=28\n",
    "    )\n",
    ")\n",
    "fig.update_yaxes(range=[0, 0.02])\n",
    "fig.show()\n",
    "fig.write_image(\"figures/segmented_losses_t2_1to1.png\", width=2000, height=700)"
   ]
  },
  {
   "cell_type": "code",
   "execution_count": 62,
   "id": "97c8e75d-7109-4626-8e61-c7fa414342e8",
   "metadata": {},
   "outputs": [
    {
     "data": {
      "text/html": [
       "<iframe\n",
       "    scrolling=\"no\"\n",
       "    width=\"100%\"\n",
       "    height=\"545px\"\n",
       "    src=\"iframe_figures/figure_62.html\"\n",
       "    frameborder=\"0\"\n",
       "    allowfullscreen\n",
       "></iframe>\n"
      ]
     },
     "metadata": {},
     "output_type": "display_data"
    }
   ],
   "source": [
    "fig = px.box(\n",
    "    seg1_df,\n",
    "    x=\"Segment\",\n",
    "    y=\"Clusters\",\n",
    "    color=\"Runs\",\n",
    "    color_discrete_map={\n",
    "        \"Train\": \"green\",\n",
    "        \"Val\": \"orange\",\n",
    "        \"Test\": \"red\"\n",
    "    }\n",
    ")\n",
    "fig.update_traces(quartilemethod=\"exclusive\")\n",
    "fig.update_layout(\n",
    "    xaxis_title=\"Model Version\",\n",
    "    yaxis_title=\"Cluster Size (Pixels)\",\n",
    "    legend_title=\"Run Name\",\n",
    "    font=dict(\n",
    "        family=\"Arial\",\n",
    "        size=28\n",
    "    )\n",
    ")\n",
    "fig.update_yaxes(range=[0, 1200])\n",
    "fig.show()\n",
    "fig.write_image(\"figures/segmented_clusters_t2_1to1.png\", width=2000, height=700)"
   ]
  },
  {
   "cell_type": "code",
   "execution_count": 63,
   "id": "25dd7f50-7948-43f3-830f-3d2c0a989696",
   "metadata": {},
   "outputs": [
    {
     "data": {
      "text/html": [
       "<iframe\n",
       "    scrolling=\"no\"\n",
       "    width=\"100%\"\n",
       "    height=\"545px\"\n",
       "    src=\"iframe_figures/figure_63.html\"\n",
       "    frameborder=\"0\"\n",
       "    allowfullscreen\n",
       "></iframe>\n"
      ]
     },
     "metadata": {},
     "output_type": "display_data"
    }
   ],
   "source": [
    "fig = px.bar(\n",
    "    seg1_banded_df,\n",
    "    x=\"Runs\",\n",
    "    y=\"Pixels Percentage\",\n",
    "    color=\"Band\",\n",
    "    facet_col=\"Segment\",\n",
    "    color_discrete_map={\n",
    "        \"-inf to -4\": \"#003d9e\",\n",
    "        \"-4 to -3\": \"#3272d9\",\n",
    "        \"-3 to -2\": \"#80acf2\",\n",
    "        \"2 to 3\": \"#f28080\",\n",
    "        \"3 to 4\": \"#d14343\",\n",
    "        \"4 to inf\": \"#a10606\"\n",
    "    }\n",
    ")\n",
    "fig.for_each_annotation(lambda a: a.update(text=a.text.split(\"=\")[-1]))\n",
    "fig.for_each_xaxis(lambda x: x.update(title = ''))\n",
    "fig.update_layout(\n",
    "    font=dict(\n",
    "        family=\"Arial\",\n",
    "        size=18\n",
    "    )\n",
    ")\n",
    "fig.update_yaxes(range=[0, 7])\n",
    "fig.show()\n",
    "fig.write_image(\"figures/segmented_banded_pixels_t2_1to1.png\", width=2000, height=500)"
   ]
  },
  {
   "cell_type": "code",
   "execution_count": 64,
   "id": "bf5827e2-0ed5-4d74-96ae-45799ec0c075",
   "metadata": {},
   "outputs": [
    {
     "data": {
      "text/html": [
       "<iframe\n",
       "    scrolling=\"no\"\n",
       "    width=\"100%\"\n",
       "    height=\"545px\"\n",
       "    src=\"iframe_figures/figure_64.html\"\n",
       "    frameborder=\"0\"\n",
       "    allowfullscreen\n",
       "></iframe>\n"
      ]
     },
     "metadata": {},
     "output_type": "display_data"
    }
   ],
   "source": [
    "fig = px.bar(\n",
    "    seg1_banded_df,\n",
    "    x=\"Runs\",\n",
    "    y=\"Clusters\",\n",
    "    color=\"Band\",\n",
    "    facet_col=\"Segment\",\n",
    "    color_discrete_map={\n",
    "        \"-inf to -4\": \"#003d9e\",\n",
    "        \"-4 to -3\": \"#3272d9\",\n",
    "        \"-3 to -2\": \"#80acf2\",\n",
    "        \"2 to 3\": \"#f28080\",\n",
    "        \"3 to 4\": \"#d14343\",\n",
    "        \"4 to inf\": \"#a10606\"\n",
    "    }\n",
    ")\n",
    "fig.for_each_annotation(lambda a: a.update(text=a.text.split(\"=\")[-1]))\n",
    "fig.for_each_xaxis(lambda x: x.update(title = ''))\n",
    "fig.update_layout(\n",
    "    font=dict(\n",
    "        family=\"Arial\",\n",
    "        size=18\n",
    "    )\n",
    ")\n",
    "fig.update_yaxes(range=[0, 175])\n",
    "fig.show()\n",
    "fig.write_image(\"figures/segmented_banded_clusters_t2_1to1.png\", width=2000, height=500)"
   ]
  },
  {
   "cell_type": "markdown",
   "id": "67524153-f39f-4bb4-b789-25caa0d60b52",
   "metadata": {},
   "source": [
    "### Get T1 1 to 1 Metrics"
   ]
  },
  {
   "cell_type": "code",
   "execution_count": 65,
   "id": "2da9808e-b3e0-40eb-96ae-7bd027adbdd3",
   "metadata": {},
   "outputs": [],
   "source": [
    "seg1_runs = []\n",
    "seg1_segments = []\n",
    "seg1_losses = []\n",
    "seg1_clusters = []\n",
    "\n",
    "total_pixels = 256**3\n",
    "pixels = []\n",
    "pixel_runs = []\n",
    "pixel_band = []\n",
    "pixel_segment = []\n",
    "\n",
    "cluster_runs = []\n",
    "cluster_models = []\n",
    "cluster_band = []\n",
    "\n",
    "\n",
    "for run in [\"train\", \"val\", \"test\"]:\n",
    "    # overall metrics\n",
    "    prefix = f\"overall_single_seg_t1_{run}\"\n",
    "    overall_losses = np.load(os.path.join(seg_metrics_dir, f\"{prefix}_losses.npy\"))\n",
    "    overall_clusters = np.load(os.path.join(seg_metrics_dir, f\"{prefix}_clusters.npy\"))\n",
    "    with open(os.path.join(seg_metrics_dir, f\"{prefix}_banded_metrics.pkl\"), \"rb\") as f:\n",
    "        overall_bands = pickle.load(f)\n",
    "\n",
    "    seg1_runs.extend([run.capitalize() for x in range(0, len(overall_losses))])\n",
    "    seg1_segments.extend([\"Overall\" for x in range(0, len(overall_losses))])\n",
    "    seg1_losses.extend(overall_losses)\n",
    "    seg1_clusters.extend(overall_clusters)\n",
    "\n",
    "    # Get pixel percents\n",
    "    for band in [x[\"range\"] for x in std_bands]:\n",
    "        pix = np.mean([(x / total_pixels) * 100 for x in np.nan_to_num(overall_bands[f\"{band} pixels\"])])\n",
    "        pixels.append(pix)\n",
    "        pixel_runs.append(run.capitalize())\n",
    "        pixel_band.append(band)\n",
    "        pixel_segment.append(\"Overall\")\n",
    "\n",
    "        clust = np.mean([np.mean(x) for x in np.nan_to_num(overall_bands[f\"{band} clusters\"])])\n",
    "        cluster_band.append(clust)\n",
    "\n",
    "for idx, segment in enumerate(segment_info):\n",
    "    for run in [\"train\", \"val\", \"test\"]:\n",
    "        # segmented metrics\n",
    "        prefix = f\"seg{idx}_t1_{run}\"\n",
    "        seg_losses = np.load(os.path.join(seg_metrics_dir, f\"{prefix}_losses.npy\"))\n",
    "        seg_clusters = np.load(os.path.join(seg_metrics_dir, f\"{prefix}_clusters.npy\"))\n",
    "        with open(os.path.join(seg_metrics_dir, f\"{prefix}_banded_metrics.pkl\"), \"rb\") as f:\n",
    "            seg_bands = pickle.load(f)\n",
    "        \n",
    "        seg1_runs.extend([run.capitalize() for x in range(0, len(seg_losses))])\n",
    "        seg1_segments.extend([segment for x in range(0, len(seg_losses))])\n",
    "        seg1_losses.extend(seg_losses)\n",
    "        seg1_clusters.extend(seg_clusters)\n",
    "        \n",
    "        # Get pixel percents\n",
    "        for band in [x[\"range\"] for x in std_bands]:\n",
    "            pix = np.mean([(x / total_pixels) * 100 for x in np.nan_to_num(seg_bands[f\"{band} pixels\"])])\n",
    "            pixels.append(pix)\n",
    "            pixel_runs.append(run.capitalize())\n",
    "            pixel_band.append(band)\n",
    "            pixel_segment.append(segment)\n",
    "\n",
    "            clust = np.mean([np.mean(x) for x in np.nan_to_num(seg_bands[f\"{band} clusters\"])])\n",
    "            cluster_band.append(clust)\n",
    "    \n",
    "seg1_df = pd.DataFrame({\"Runs\": seg1_runs, \"Segment\": seg1_segments, \"Losses\": seg1_losses, \"Clusters\": seg1_clusters})\n",
    "\n",
    "seg1_banded_df = pd.DataFrame({\"Runs\": pixel_runs, \"Segment\": pixel_segment, \"Band\": pixel_band, \"Pixels Percentage\": pixels, \"Clusters\": cluster_band})\n",
    "\n",
    "t1_1to1_df = seg1_df.copy()"
   ]
  },
  {
   "cell_type": "code",
   "execution_count": 66,
   "id": "4f106319-8f78-4768-8f85-831968f83eae",
   "metadata": {},
   "outputs": [
    {
     "data": {
      "text/html": [
       "<iframe\n",
       "    scrolling=\"no\"\n",
       "    width=\"100%\"\n",
       "    height=\"545px\"\n",
       "    src=\"iframe_figures/figure_66.html\"\n",
       "    frameborder=\"0\"\n",
       "    allowfullscreen\n",
       "></iframe>\n"
      ]
     },
     "metadata": {},
     "output_type": "display_data"
    }
   ],
   "source": [
    "fig = px.box(\n",
    "    seg1_df,\n",
    "    x=\"Segment\",\n",
    "    y=\"Losses\",\n",
    "    color=\"Runs\",\n",
    "    color_discrete_map={\n",
    "        \"Train\": \"green\",\n",
    "        \"Val\": \"orange\",\n",
    "        \"Test\": \"red\"\n",
    "    }\n",
    ")\n",
    "fig.update_traces(quartilemethod=\"exclusive\") \n",
    "fig.update_layout(\n",
    "    xaxis_title=\"Model Version\",\n",
    "    yaxis_title=\"Loss (MSE)\",\n",
    "    legend_title=\"Run Name\",\n",
    "    font=dict(\n",
    "        family=\"Arial\",\n",
    "        size=28\n",
    "    )\n",
    ")\n",
    "fig.update_yaxes(range=[0, 0.02])\n",
    "fig.show()\n",
    "fig.write_image(\"figures/segmented_losses_t1_1to1.png\", width=2000, height=700)"
   ]
  },
  {
   "cell_type": "code",
   "execution_count": 67,
   "id": "3ebd3c94-99ae-4352-b1ba-344b08e61933",
   "metadata": {},
   "outputs": [
    {
     "data": {
      "text/html": [
       "<iframe\n",
       "    scrolling=\"no\"\n",
       "    width=\"100%\"\n",
       "    height=\"545px\"\n",
       "    src=\"iframe_figures/figure_67.html\"\n",
       "    frameborder=\"0\"\n",
       "    allowfullscreen\n",
       "></iframe>\n"
      ]
     },
     "metadata": {},
     "output_type": "display_data"
    }
   ],
   "source": [
    "fig = px.box(\n",
    "    seg1_df,\n",
    "    x=\"Segment\",\n",
    "    y=\"Clusters\",\n",
    "    color=\"Runs\",\n",
    "    color_discrete_map={\n",
    "        \"Train\": \"green\",\n",
    "        \"Val\": \"orange\",\n",
    "        \"Test\": \"red\"\n",
    "    }\n",
    ")\n",
    "fig.update_traces(quartilemethod=\"exclusive\") \n",
    "fig.update_layout(\n",
    "    xaxis_title=\"Model Version\",\n",
    "    yaxis_title=\"Cluster Size (Pixels)\",\n",
    "    legend_title=\"Run Name\",\n",
    "    font=dict(\n",
    "        family=\"Arial\",\n",
    "        size=28\n",
    "    )\n",
    ")\n",
    "fig.update_yaxes(range=[0, 1200])\n",
    "fig.show()\n",
    "fig.write_image(\"figures/segmented_clusters_t1_1to1.png\", width=2000, height=700)"
   ]
  },
  {
   "cell_type": "code",
   "execution_count": 68,
   "id": "7dbacd9a-e7b6-4f0f-9ca4-67a18dbc3366",
   "metadata": {},
   "outputs": [
    {
     "data": {
      "text/html": [
       "<iframe\n",
       "    scrolling=\"no\"\n",
       "    width=\"100%\"\n",
       "    height=\"545px\"\n",
       "    src=\"iframe_figures/figure_68.html\"\n",
       "    frameborder=\"0\"\n",
       "    allowfullscreen\n",
       "></iframe>\n"
      ]
     },
     "metadata": {},
     "output_type": "display_data"
    }
   ],
   "source": [
    "fig = px.bar(\n",
    "    seg1_banded_df,\n",
    "    x=\"Runs\",\n",
    "    y=\"Pixels Percentage\",\n",
    "    color=\"Band\",\n",
    "    facet_col=\"Segment\",\n",
    "    color_discrete_map={\n",
    "        \"-inf to -4\": \"#003d9e\",\n",
    "        \"-4 to -3\": \"#3272d9\",\n",
    "        \"-3 to -2\": \"#80acf2\",\n",
    "        \"2 to 3\": \"#f28080\",\n",
    "        \"3 to 4\": \"#d14343\",\n",
    "        \"4 to inf\": \"#a10606\"\n",
    "    }\n",
    ")\n",
    "fig.for_each_annotation(lambda a: a.update(text=a.text.split(\"=\")[-1]))\n",
    "fig.for_each_xaxis(lambda x: x.update(title = ''))\n",
    "fig.update_layout(\n",
    "    font=dict(\n",
    "        family=\"Arial\",\n",
    "        size=18\n",
    "    )\n",
    ")\n",
    "fig.update_yaxes(range=[0, 7])\n",
    "fig.show()\n",
    "fig.write_image(\"figures/segmented_banded_pixels_t1_1to1.png\", width=2000, height=500)"
   ]
  },
  {
   "cell_type": "code",
   "execution_count": 69,
   "id": "093356e1-779f-4055-a68f-9465a01252c6",
   "metadata": {},
   "outputs": [
    {
     "data": {
      "text/html": [
       "<iframe\n",
       "    scrolling=\"no\"\n",
       "    width=\"100%\"\n",
       "    height=\"545px\"\n",
       "    src=\"iframe_figures/figure_69.html\"\n",
       "    frameborder=\"0\"\n",
       "    allowfullscreen\n",
       "></iframe>\n"
      ]
     },
     "metadata": {},
     "output_type": "display_data"
    }
   ],
   "source": [
    "fig = px.bar(\n",
    "    seg1_banded_df,\n",
    "    x=\"Runs\",\n",
    "    y=\"Clusters\",\n",
    "    color=\"Band\",\n",
    "    facet_col=\"Segment\",\n",
    "    color_discrete_map={\n",
    "        \"-inf to -4\": \"#003d9e\",\n",
    "        \"-4 to -3\": \"#3272d9\",\n",
    "        \"-3 to -2\": \"#80acf2\",\n",
    "        \"2 to 3\": \"#f28080\",\n",
    "        \"3 to 4\": \"#d14343\",\n",
    "        \"4 to inf\": \"#a10606\"\n",
    "    }\n",
    ")\n",
    "fig.for_each_annotation(lambda a: a.update(text=a.text.split(\"=\")[-1]))\n",
    "fig.for_each_xaxis(lambda x: x.update(title = ''))\n",
    "fig.update_layout(\n",
    "    font=dict(\n",
    "        family=\"Arial\",\n",
    "        size=18\n",
    "    )\n",
    ")\n",
    "fig.update_yaxes(range=[0, 175])\n",
    "fig.show()\n",
    "fig.write_image(\"figures/segmented_banded_clusters_t1_1to1.png\", width=2000, height=500)"
   ]
  },
  {
   "cell_type": "markdown",
   "id": "b42ce096-10b8-470a-8061-bd5ed0b58d88",
   "metadata": {},
   "source": [
    "### Get ROC Curves"
   ]
  },
  {
   "cell_type": "code",
   "execution_count": 74,
   "id": "325f6bf7-c2b7-4e01-ac98-3ffb10f139ed",
   "metadata": {},
   "outputs": [],
   "source": [
    "t1_9to9_df[\"model\"] = \"T1 All-In-One\"\n",
    "t2_9to9_df[\"model\"] = \"T2 All-In-One\"\n",
    "t1_1to1_df[\"model\"] = \"T1 One-Per-Segment\"\n",
    "t2_1to1_df[\"model\"] = \"T2 One-Per-Segment\"\n",
    "\n",
    "t1_1to1_df.rename(columns = {'Segment':'Segments'}, inplace = True)\n",
    "t2_1to1_df.rename(columns = {'Segment':'Segments'}, inplace = True)"
   ]
  },
  {
   "cell_type": "code",
   "execution_count": 87,
   "id": "f4b19437-cc86-46c4-af51-e34f4a493f0f",
   "metadata": {},
   "outputs": [
    {
     "data": {
      "image/png": "[encoded data removed]",
      "text/plain": [
       "<Figure size 2000x2000 with 1 Axes>"
      ]
     },
     "metadata": {},
     "output_type": "display_data"
    }
   ],
   "source": [
    "from sklearn.metrics import confusion_matrix, precision_recall_curve, roc_curve, roc_auc_score\n",
    "\n",
    "def get_roc(x, y):\n",
    "    ns_probs = [0 for _ in range(len(y))]\n",
    "    ns_fpr, ns_tpr, _ = roc_curve(y, ns_probs)\n",
    "    lr_fpr, lr_tpr, _ = roc_curve(y, x)\n",
    "    auc = roc_auc_score(y, x)\n",
    "    \n",
    "    return lr_fpr, lr_tpr, auc\n",
    "\n",
    "fig, ax = plt.subplots(figsize=(20, 20))\n",
    "\n",
    "y = [round(np.random.rand()) for x in range(193)]\n",
    "ns_probs = [0 for _ in range(len(y))]\n",
    "ns_fpr, ns_tpr, _ = roc_curve(y, ns_probs)\n",
    "plt.plot(ns_fpr, ns_tpr, linestyle='--', label='Baseline')\n",
    "\n",
    "line_styles = ['solid', 'dotted', 'dashed', 'dashdot']\n",
    "\n",
    "# get ROC's for each model\n",
    "counter = 0\n",
    "roc_losses = pd.concat([t1_9to9_df, t2_9to9_df, t1_1to1_df, t2_1to1_df], ignore_index=True, axis=0)\n",
    "for name in [\"T1 All-In-One\", \"T2 All-In-One\", \"T1 One-Per-Segment\", \"T2 One-Per-Segment\"]:\n",
    "# for name in [\"T1 All-In-One\", \"T1 One-Per-Segment\"]:\n",
    "    train_loss = roc_losses[(roc_losses[\"model\"] == name) & (roc_losses[\"Runs\"] == \"Train\") & (roc_losses[\"Segments\"] == \"Overall\")][\"Losses\"]\n",
    "    test_loss = roc_losses[(roc_losses[\"model\"] == name) & (roc_losses[\"Runs\"] == \"Test\") & (roc_losses[\"Segments\"] == \"Overall\")][\"Losses\"]\n",
    "\n",
    "    x =list(train_loss)\n",
    "    x.extend(np.array(test_loss))\n",
    "    x = np.array(x).reshape(-1, 1)\n",
    "    train_classes = [0] * len(train_loss)\n",
    "    y = train_classes.copy()\n",
    "    y.extend([1] * len(test_loss))\n",
    "\n",
    "    lr_fpr, lr_tpr, auc = get_roc(x,y)\n",
    "    plt.plot(lr_fpr, lr_tpr, marker='.', label=name + \" - {:.2f}\".format(auc), linestyle=line_styles[counter], linewidth=6)\n",
    "    counter += 1\n",
    "\n",
    "plt.xlabel('False Positive Rate')\n",
    "plt.ylabel('True Positive Rate')\n",
    "plt.legend(loc=4, prop={'size': 50})\n",
    "\n",
    "plt.tight_layout()\n",
    "plt.savefig('figures/segmented_roc.png')"
   ]
  },
  {
   "cell_type": "code",
   "execution_count": null,
   "id": "41ffc2b7-a62c-4340-93f1-299d4fd756d3",
   "metadata": {},
   "outputs": [],
   "source": []
  }
 ],
 "metadata": {
  "kernelspec": {
   "display_name": "Python 3 (ipykernel)",
   "language": "python",
   "name": "python3"
  },
  "language_info": {
   "codemirror_mode": {
    "name": "ipython",
    "version": 3
   },
   "file_extension": ".py",
   "mimetype": "text/x-python",
   "name": "python",
   "nbconvert_exporter": "python",
   "pygments_lexer": "ipython3",
   "version": "3.9.15"
  }
 },
 "nbformat": 4,
 "nbformat_minor": 5
}
