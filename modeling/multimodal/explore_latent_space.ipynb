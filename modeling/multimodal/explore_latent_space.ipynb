{
 "cells": [
  {
   "cell_type": "markdown",
   "id": "728ca756-be25-4a76-b8aa-8c69725b6e69",
   "metadata": {},
   "source": [
    "### Import Libraries"
   ]
  },
  {
   "cell_type": "code",
   "execution_count": 10,
   "id": "5b84b118-8cd8-48a6-9899-a09d8600527b",
   "metadata": {},
   "outputs": [],
   "source": [
    "import torch\n",
    "import torch.nn as nn\n",
    "import torch.nn.functional as F\n",
    "from torch.utils.data import Dataset, DataLoader\n",
    "import torch.distributions as dist\n",
    "from torchsummary import summary\n",
    "import math\n",
    "import os\n",
    "import numpy as np\n",
    "import time\n",
    "import matplotlib.pyplot as plt\n",
    "from prettytable import PrettyTable\n",
    "from sklearn.model_selection import train_test_split\n",
    "from tqdm import tqdm\n",
    "from pathlib import Path\n",
    "import re\n",
    "from skimage.metrics  import structural_similarity as ssim\n",
    "\n",
    "from importlib import reload\n",
    "import visualization\n",
    "\n",
    "# locals\n",
    "import model_architectures\n",
    "\n",
    "reload(model_architectures)\n",
    "from model_architectures import VAE, Data3D, VAELatent\n",
    "\n",
    "reload(visualization)\n",
    "from visualization import brain_diff"
   ]
  },
  {
   "cell_type": "markdown",
   "id": "0515ffc4-2ebc-4ff3-931f-c75de4a3a6b8",
   "metadata": {},
   "source": [
    "### Define Paths"
   ]
  },
  {
   "cell_type": "code",
   "execution_count": 2,
   "id": "c5c74d9e-35b0-4739-8722-a2b908eed302",
   "metadata": {},
   "outputs": [],
   "source": [
    "research_dir = r\"D:/school/research\"\n",
    "code_dir = os.path.join(research_dir, \"code\")\n",
    "model_dir = os.path.join(code_dir, \"explore_again\", \"models\")\n",
    "data_dir = os.path.join(research_dir, \"data\")\n",
    "dhcp_rel2 = os.path.join(data_dir, \"dhcp_rel2\")\n",
    "processed_dir = os.path.join(dhcp_rel2, \"processed\")\n",
    "volume_dir = os.path.join(processed_dir, \"volumes\")\n",
    "l1_dir = os.path.join(volume_dir, \"l1\")\n",
    "l5_dir = os.path.join(volume_dir, \"l5\")"
   ]
  },
  {
   "cell_type": "markdown",
   "id": "0ba5a186-8ac0-4a56-bd9f-4f234382ebe6",
   "metadata": {},
   "source": [
    "### Get Data"
   ]
  },
  {
   "cell_type": "code",
   "execution_count": 3,
   "id": "7de5870b-2c66-4507-81ad-5fb0d23027af",
   "metadata": {},
   "outputs": [],
   "source": [
    "np.random.seed(42)\n",
    "num_samples = int(len(os.listdir(l1_dir)) / 2)\n",
    "samples = np.array([i for i in range(0, num_samples)])\n",
    "np.random.shuffle(samples)\n",
    "\n",
    "split_val = int(0.8 * num_samples)\n",
    "train_indices = samples[0:split_val]\n",
    "val_indices = samples[split_val:]\n",
    "\n",
    "num_test = int(len(os.listdir(l5_dir)) / 2)\n",
    "test_indices = np.array([i for i in range(0, num_test)])"
   ]
  },
  {
   "cell_type": "markdown",
   "id": "8e70262a-cc97-415e-b62d-f62f224f800f",
   "metadata": {},
   "source": [
    "### Load T2 Weights to Latent Space Only"
   ]
  },
  {
   "cell_type": "code",
   "execution_count": 20,
   "id": "851d060e-62e5-4e1b-a1a3-bc26e3e8441f",
   "metadata": {
    "collapsed": true,
    "jupyter": {
     "outputs_hidden": true
    },
    "tags": []
   },
   "outputs": [
    {
     "data": {
      "text/plain": [
       "VAELatent(\n",
       "  (model): Sequential(\n",
       "    (0): ResnetEncoder(\n",
       "      (pass1): Sequential(\n",
       "        (0): InstanceNorm3d(1, eps=1e-05, momentum=0.1, affine=False, track_running_stats=False)\n",
       "        (1): ReLU()\n",
       "        (2): Conv3d(1, 32, kernel_size=(3, 3, 3), stride=(2, 2, 2), padding=(1, 1, 1))\n",
       "      )\n",
       "      (pass2): Sequential(\n",
       "        (0): InstanceNorm3d(32, eps=1e-05, momentum=0.1, affine=False, track_running_stats=False)\n",
       "        (1): ReLU()\n",
       "        (2): Conv3d(32, 32, kernel_size=(3, 3, 3), stride=(2, 2, 2), padding=(1, 1, 1))\n",
       "      )\n",
       "      (conv_bypass): Conv3d(1, 32, kernel_size=(3, 3, 3), stride=(4, 4, 4))\n",
       "      (activation_bypass): ReLU()\n",
       "    )\n",
       "    (1): ResnetEncoder(\n",
       "      (pass1): Sequential(\n",
       "        (0): InstanceNorm3d(32, eps=1e-05, momentum=0.1, affine=False, track_running_stats=False)\n",
       "        (1): ReLU()\n",
       "        (2): Conv3d(32, 32, kernel_size=(3, 3, 3), stride=(2, 2, 2), padding=(1, 1, 1))\n",
       "      )\n",
       "      (pass2): Sequential(\n",
       "        (0): InstanceNorm3d(32, eps=1e-05, momentum=0.1, affine=False, track_running_stats=False)\n",
       "        (1): ReLU()\n",
       "        (2): Conv3d(32, 32, kernel_size=(3, 3, 3), stride=(2, 2, 2), padding=(1, 1, 1))\n",
       "      )\n",
       "      (conv_bypass): Conv3d(32, 32, kernel_size=(3, 3, 3), stride=(4, 4, 4))\n",
       "      (activation_bypass): ReLU()\n",
       "    )\n",
       "    (2): ResnetEncoderHalf(\n",
       "      (pass1): Sequential(\n",
       "        (0): InstanceNorm3d(32, eps=1e-05, momentum=0.1, affine=False, track_running_stats=False)\n",
       "        (1): ReLU()\n",
       "        (2): Conv3d(32, 32, kernel_size=(3, 3, 3), stride=(2, 2, 2), padding=(1, 1, 1))\n",
       "      )\n",
       "      (conv_bypass): Conv3d(32, 32, kernel_size=(3, 3, 3), stride=(2, 2, 2), padding=(1, 1, 1))\n",
       "      (activation_bypass): ReLU()\n",
       "    )\n",
       "    (3): VariationalLatentDistribution(\n",
       "      (flatten): Flatten(start_dim=1, end_dim=-1)\n",
       "      (norm1): InstanceNorm1d(16384, eps=1e-05, momentum=0.1, affine=False, track_running_stats=False)\n",
       "      (norm2): InstanceNorm1d(16384, eps=1e-05, momentum=0.1, affine=False, track_running_stats=False)\n",
       "      (mu): Linear(in_features=16384, out_features=512, bias=True)\n",
       "      (sigma): Linear(in_features=16384, out_features=512, bias=True)\n",
       "    )\n",
       "  )\n",
       ")"
      ]
     },
     "execution_count": 20,
     "metadata": {},
     "output_type": "execute_result"
    }
   ],
   "source": [
    "model_path = os.path.join(model_dir, \"vae_rel2_t2_second_session.pt\")\n",
    "weights = torch.load(model_path)\n",
    "\n",
    "model = VAELatent(1)\n",
    "pretrained_dict = {k: v for k, v in weights.items() if k in model.state_dict()}\n",
    "model.load_state_dict(pretrained_dict)\n",
    "model.cuda()\n",
    "model.eval()"
   ]
  },
  {
   "cell_type": "code",
   "execution_count": 23,
   "id": "aa77e765-e7a1-41cc-8375-e6bfb401c181",
   "metadata": {},
   "outputs": [],
   "source": [
    "train = Data3D(l1_dir, train_indices, t2_only=True)\n",
    "val = Data3D(l1_dir, val_indices, t2_only=True)\n",
    "test = Data3D(l5_dir, test_indices, t2_only=True)"
   ]
  },
  {
   "cell_type": "code",
   "execution_count": 51,
   "id": "213d49cd-07fa-4835-9a67-14a3edbcf159",
   "metadata": {},
   "outputs": [],
   "source": [
    "index = 0\n",
    "x = torch.Tensor(np.reshape(train[0], (1, 1, 256, 256, 256))).cuda()\n",
    "res = model(x)\n",
    "mu = res[0].cpu().detach().numpy().reshape(512)\n",
    "sig = torch.exp(res[1] / 2).cpu().detach().numpy().reshape(512)"
   ]
  },
  {
   "cell_type": "code",
   "execution_count": 61,
   "id": "f9585c2b-ea7d-408a-adad-0b31df55620e",
   "metadata": {},
   "outputs": [
    {
     "name": "stdout",
     "output_type": "stream",
     "text": [
      "CPU times: total: 12.7 s\n",
      "Wall time: 12.8 s\n"
     ]
    }
   ],
   "source": [
    "%%time\n",
    "\n",
    "# Get distributions across all train samples\n",
    "\n",
    "mus = []\n",
    "sigmas = []\n",
    "for index in range(0, len(train)):\n",
    "    x = torch.Tensor(np.reshape(train[0], (1, 1, 256, 256, 256))).cuda()\n",
    "    res = model(x)\n",
    "    mu = res[0].cpu().detach().numpy().reshape(512)\n",
    "    sig = torch.exp(res[1] / 2).cpu().detach().numpy().reshape(512)\n",
    "    mus.append(mu)\n",
    "    sigmas.append(sig)"
   ]
  },
  {
   "cell_type": "code",
   "execution_count": 80,
   "id": "4f5f1c10-e65f-4f40-a732-94c2decec32a",
   "metadata": {},
   "outputs": [],
   "source": [
    "avg_mu = np.mean(np.array(mus), axis=0)\n",
    "avg_sig = np.mean(np.array(sigmas), axis=0)"
   ]
  },
  {
   "cell_type": "code",
   "execution_count": 62,
   "id": "2ab7b48a-1c42-4dc2-b9d2-625acf176dc4",
   "metadata": {},
   "outputs": [],
   "source": [
    "# rows = 32\n",
    "# cols = 16\n",
    "\n",
    "# fig, ax = plt.subplots(rows, cols, figsize=(100,100))\n",
    "\n",
    "# counter = 0\n",
    "# for i in range(0, rows):\n",
    "#     for j in range(0, cols):\n",
    "#         dist = np.random.normal(mu[counter], sig[counter], 1000)\n",
    "        \n",
    "#         ax[i][j].hist(dist)\n",
    "#         counter += 1"
   ]
  },
  {
   "cell_type": "code",
   "execution_count": 103,
   "id": "70caafdc-0548-4541-855e-5b648a907525",
   "metadata": {},
   "outputs": [],
   "source": [
    "# test sample\n",
    "\n",
    "x = torch.Tensor(np.reshape(train[2], (1, 1, 256, 256, 256))).cuda()\n",
    "res = model(x)\n",
    "mu = res[0].cpu().detach().numpy().reshape(512)\n",
    "sig = torch.exp(res[1] / 2).cpu().detach().numpy().reshape(512)"
   ]
  },
  {
   "cell_type": "code",
   "execution_count": 104,
   "id": "5ee8bf43-7514-40c0-955c-75969fd50e15",
   "metadata": {},
   "outputs": [],
   "source": [
    "from scipy.stats import norm\n",
    "norm.cdf(1.96)\n",
    "\n",
    "def solve(m1, std1, m2, std2):\n",
    "    a = 1/(2*std1**2) - 1/(2*std2**2)\n",
    "    b = m2/(std2**2) - m1/(std1**2)\n",
    "    c = m1**2 /(2*std1**2) - m2**2 / (2*std2**2) - np.log(std2/std1)\n",
    "    return np.roots([a,b,c])\n",
    "\n",
    "areas = []\n",
    "for i in range(0, 512):\n",
    "    m1 = mu[i]\n",
    "    std1 = sig[i]\n",
    "    m2 = avg_mu[i]\n",
    "    std2 = avg_sig[i]\n",
    "    #Get point of intersect\n",
    "    result = solve(m1,std1,m2,std2)\n",
    "    r = result[0]\n",
    "    # integrate\n",
    "    area = norm.cdf(r,m2,std2) + (1.-norm.cdf(r,m1,std1))\n",
    "    # print(\"Area under curves \", area / 2)\n",
    "    areas.append(area/2)"
   ]
  },
  {
   "cell_type": "code",
   "execution_count": 96,
   "id": "5ff24e9c-f1ed-4a74-a99f-ba4a56c89b49",
   "metadata": {},
   "outputs": [
    {
     "data": {
      "text/plain": [
       "(array([  3.,   2.,   6.,  37., 186., 230.,  18.,   9.,   3.,  18.]),\n",
       " array([3.40454634e-38, 1.00000000e-01, 2.00000000e-01, 3.00000000e-01,\n",
       "        4.00000000e-01, 5.00000000e-01, 6.00000000e-01, 7.00000000e-01,\n",
       "        8.00000000e-01, 9.00000000e-01, 1.00000000e+00]),\n",
       " <BarContainer object of 10 artists>)"
      ]
     },
     "execution_count": 96,
     "metadata": {},
     "output_type": "execute_result"
    },
    {
     "data": {
      "image/png": "[encoded data removed]",
      "text/plain": [
       "<Figure size 640x480 with 1 Axes>"
      ]
     },
     "metadata": {},
     "output_type": "display_data"
    }
   ],
   "source": [
    "plt.hist(areas)"
   ]
  },
  {
   "cell_type": "code",
   "execution_count": 105,
   "id": "992b9edd-79c6-4422-baa6-79f2fc7bc14b",
   "metadata": {},
   "outputs": [
    {
     "data": {
      "text/plain": [
       "(array([ 13.,   1.,   8.,  21., 171., 266.,  11.,   6.,   1.,  14.]),\n",
       " array([0. , 0.1, 0.2, 0.3, 0.4, 0.5, 0.6, 0.7, 0.8, 0.9, 1. ]),\n",
       " <BarContainer object of 10 artists>)"
      ]
     },
     "execution_count": 105,
     "metadata": {},
     "output_type": "execute_result"
    },
    {
     "data": {
      "image/png": "[encoded data removed]",
      "text/plain": [
       "<Figure size 640x480 with 1 Axes>"
      ]
     },
     "metadata": {},
     "output_type": "display_data"
    }
   ],
   "source": [
    "plt.hist(areas)"
   ]
  },
  {
   "cell_type": "code",
   "execution_count": null,
   "id": "9bc72c0d-12f6-472c-be53-100d77393945",
   "metadata": {},
   "outputs": [],
   "source": []
  }
 ],
 "metadata": {
  "kernelspec": {
   "display_name": "Python 3 (ipykernel)",
   "language": "python",
   "name": "python3"
  },
  "language_info": {
   "codemirror_mode": {
    "name": "ipython",
    "version": 3
   },
   "file_extension": ".py",
   "mimetype": "text/x-python",
   "name": "python",
   "nbconvert_exporter": "python",
   "pygments_lexer": "ipython3",
   "version": "3.9.15"
  }
 },
 "nbformat": 4,
 "nbformat_minor": 5
}
