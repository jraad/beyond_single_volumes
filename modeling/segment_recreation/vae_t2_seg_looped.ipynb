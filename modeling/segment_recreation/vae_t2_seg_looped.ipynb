{
 "cells": [
  {
   "attachments": {
    "c282dee1-3af5-42ae-b4d0-fe36060c77f5.png": {
     "image/png": "[encoded data removed]"
    }
   },
   "cell_type": "markdown",
   "id": "3723189c-7998-4288-b0d4-6429654f5dba",
   "metadata": {},
   "source": [
    "#### Segment Info\n",
    "![image.png](attachment:c282dee1-3af5-42ae-b4d0-fe36060c77f5.png)"
   ]
  },
  {
   "cell_type": "code",
   "execution_count": 1,
   "id": "2a6d6303-b88c-4cb7-b262-141d3255dd66",
   "metadata": {},
   "outputs": [],
   "source": [
    "segments = [\n",
    "    \"Cerebrospinal Fluid\",\n",
    "    \"Cortical Grey Matter\",\n",
    "    \"White Matter\",\n",
    "    \"Background\",\n",
    "    \"Ventricle\",\n",
    "    \"Cerebelum\",\n",
    "    \"Deep Grey Matter\",\n",
    "    \"Brainstem\",\n",
    "    \"Hippocampus\"\n",
    "]"
   ]
  },
  {
   "cell_type": "markdown",
   "id": "b44363ec-69d2-4367-b612-c29ab0f4dccf",
   "metadata": {
    "tags": []
   },
   "source": [
    "### Import Libraries"
   ]
  },
  {
   "cell_type": "code",
   "execution_count": 1,
   "id": "2f5eddcc-8125-4cf8-b99b-5ca46b6f4458",
   "metadata": {},
   "outputs": [
    {
     "name": "stderr",
     "output_type": "stream",
     "text": [
      "C:\\compute\\envs\\torch\\lib\\site-packages\\tqdm\\auto.py:22: TqdmWarning: IProgress not found. Please update jupyter and ipywidgets. See https://ipywidgets.readthedocs.io/en/stable/user_install.html\n",
      "  from .autonotebook import tqdm as notebook_tqdm\n"
     ]
    }
   ],
   "source": [
    "import torch\n",
    "import torch.nn as nn\n",
    "import torch.nn.functional as F\n",
    "from torch.utils.data import Dataset, DataLoader\n",
    "import torch.distributions as dist\n",
    "from torchsummary import summary\n",
    "import math\n",
    "import os\n",
    "import numpy as np\n",
    "import time\n",
    "import matplotlib.pyplot as plt\n",
    "from prettytable import PrettyTable\n",
    "from sklearn.model_selection import train_test_split\n",
    "from tqdm import tqdm\n",
    "from pathlib import Path\n",
    "import re\n",
    "from skimage.metrics  import structural_similarity as ssim\n",
    "import plotly.io as pio\n",
    "import plotly.express as px\n",
    "import pandas as pd\n",
    "\n",
    "pio.renderers.default = 'iframe'\n",
    "\n",
    "from importlib import reload\n",
    "\n",
    "\n",
    "# locals\n",
    "import model_architectures\n",
    "import visualization\n",
    "import unet\n",
    "\n",
    "reload(model_architectures)\n",
    "from model_architectures import VAESegment, Data3DSingleSegT2, SegMaskData\n",
    "\n",
    "reload(unet)\n",
    "from unet import UNet\n",
    "\n",
    "reload(visualization)\n",
    "from visualization import brain_diff, viz_slices"
   ]
  },
  {
   "cell_type": "markdown",
   "id": "ad20043c-1104-4dfc-98c1-54f0a1709f06",
   "metadata": {},
   "source": [
    "### Define Paths"
   ]
  },
  {
   "cell_type": "code",
   "execution_count": 2,
   "id": "e836e703-3037-4aba-a860-c12f52caed8c",
   "metadata": {},
   "outputs": [],
   "source": [
    "research_dir = r\"D:/school/research\"\n",
    "code_dir = os.path.join(research_dir, \"code\")\n",
    "model_dir = os.path.join(code_dir, \"explore_again\", \"models\")\n",
    "data_dir = os.path.join(research_dir, \"data\")\n",
    "dhcp_rel2 = os.path.join(data_dir, \"dhcp_rel2\")\n",
    "processed_dir = os.path.join(dhcp_rel2, \"processed\")\n",
    "volume_dir = os.path.join(processed_dir, \"volumes\")\n",
    "seg_dir = os.path.join(processed_dir, \"segments\")\n",
    "seg_vol_dir = os.path.join(processed_dir, \"volume_segments\")\n",
    "pred_dir = os.path.join(dhcp_rel2, \"predictions\")\n",
    "seg_pred_dir = os.path.join(pred_dir, \"vae_9seg\")\n",
    "\n",
    "l1_dir = os.path.join(volume_dir, \"l1\")\n",
    "l5_dir = os.path.join(volume_dir, \"l5\")\n",
    "\n",
    "l1_seg_dir = os.path.join(seg_dir, \"l1\")\n",
    "l5_seg_dir = os.path.join(seg_dir, \"l5\")\n",
    "\n",
    "l1_seg_vol_dir = os.path.join(seg_vol_dir, \"l1\")\n",
    "l5_seg_vol_dir = os.path.join(seg_vol_dir, \"l5\")\n",
    "\n",
    "l1_seg_pred_dir = os.path.join(seg_pred_dir, \"l1\")\n",
    "l5_seg_pred_dir = os.path.join(seg_pred_dir, \"l5\")"
   ]
  },
  {
   "cell_type": "code",
   "execution_count": 3,
   "id": "2cdfcfe5-f81f-4ee0-84e9-bb4e0c79129a",
   "metadata": {},
   "outputs": [],
   "source": [
    "\n",
    "metrics_dir = os.path.join(code_dir, \"explore_again\", \"metrics\", \"individual_segments\")\n",
    "test = np.load(os.path.join(metrics_dir, f\"vae_rel2t2_seg0_train_metrics.npy\"))"
   ]
  },
  {
   "cell_type": "code",
   "execution_count": 5,
   "id": "002e5d0c-7636-433a-9c00-a38dff5e94d6",
   "metadata": {},
   "outputs": [
    {
     "data": {
      "text/plain": [
       "0.005799173"
      ]
     },
     "execution_count": 5,
     "metadata": {},
     "output_type": "execute_result"
    }
   ],
   "source": [
    "np.mean(test)"
   ]
  },
  {
   "cell_type": "markdown",
   "id": "8397f623-6e4e-4ec8-be2a-ad4de6e97302",
   "metadata": {},
   "source": [
    "### Define Data Parameters"
   ]
  },
  {
   "cell_type": "code",
   "execution_count": 4,
   "id": "b9986f77-42a1-4f1d-b8d1-91b8e566204d",
   "metadata": {},
   "outputs": [],
   "source": [
    "np.random.seed(42)\n",
    "num_samples = int(len(os.listdir(l1_dir)) / 2)\n",
    "samples = np.array([i for i in range(0, num_samples)])\n",
    "np.random.shuffle(samples)\n",
    "\n",
    "split_val = int(0.8 * num_samples)\n",
    "train_indices = samples[0:split_val]\n",
    "val_indices = samples[split_val:]\n",
    "\n",
    "num_test = int(len(os.listdir(l5_dir)) / 2)\n",
    "test_indices = np.array([i for i in range(0, num_test)])"
   ]
  },
  {
   "cell_type": "markdown",
   "id": "954eba52-60ae-4c78-be43-080e9ddc3405",
   "metadata": {},
   "source": [
    "### Train Models for Each Segment"
   ]
  },
  {
   "cell_type": "code",
   "execution_count": 5,
   "id": "6a275d8f-40cd-4a72-b8a9-d09a039a5ffa",
   "metadata": {},
   "outputs": [
    {
     "name": "stdout",
     "output_type": "stream",
     "text": [
      "Train model for segment 0\n"
     ]
    },
    {
     "name": "stderr",
     "output_type": "stream",
     "text": [
      "100%|=============================================================================| 166/166 [01:33<00:00,  1.78batch/s]\n"
     ]
    },
    {
     "name": "stdout",
     "output_type": "stream",
     "text": [
      "epoch [1/10], train_loss:0.0306, val_loss:0.0088\n"
     ]
    },
    {
     "name": "stderr",
     "output_type": "stream",
     "text": [
      "100%|=============================================================================| 166/166 [01:55<00:00,  1.44batch/s]\n"
     ]
    },
    {
     "name": "stdout",
     "output_type": "stream",
     "text": [
      "epoch [2/10], train_loss:0.0075, val_loss:0.0069\n"
     ]
    },
    {
     "name": "stderr",
     "output_type": "stream",
     "text": [
      "100%|=============================================================================| 166/166 [01:58<00:00,  1.40batch/s]\n"
     ]
    },
    {
     "name": "stdout",
     "output_type": "stream",
     "text": [
      "epoch [3/10], train_loss:0.0065, val_loss:0.0063\n"
     ]
    },
    {
     "name": "stderr",
     "output_type": "stream",
     "text": [
      "100%|=============================================================================| 166/166 [01:54<00:00,  1.45batch/s]\n"
     ]
    },
    {
     "name": "stdout",
     "output_type": "stream",
     "text": [
      "epoch [4/10], train_loss:0.0061, val_loss:0.0061\n"
     ]
    },
    {
     "name": "stderr",
     "output_type": "stream",
     "text": [
      "100%|=============================================================================| 166/166 [01:54<00:00,  1.45batch/s]\n"
     ]
    },
    {
     "name": "stdout",
     "output_type": "stream",
     "text": [
      "epoch [5/10], train_loss:0.0060, val_loss:0.0060\n"
     ]
    },
    {
     "name": "stderr",
     "output_type": "stream",
     "text": [
      "100%|=============================================================================| 166/166 [01:55<00:00,  1.44batch/s]\n"
     ]
    },
    {
     "name": "stdout",
     "output_type": "stream",
     "text": [
      "epoch [6/10], train_loss:0.0059, val_loss:0.0060\n"
     ]
    },
    {
     "name": "stderr",
     "output_type": "stream",
     "text": [
      "100%|=============================================================================| 166/166 [01:55<00:00,  1.43batch/s]\n"
     ]
    },
    {
     "name": "stdout",
     "output_type": "stream",
     "text": [
      "epoch [7/10], train_loss:0.0059, val_loss:0.0059\n"
     ]
    },
    {
     "name": "stderr",
     "output_type": "stream",
     "text": [
      "100%|=============================================================================| 166/166 [01:55<00:00,  1.43batch/s]\n"
     ]
    },
    {
     "name": "stdout",
     "output_type": "stream",
     "text": [
      "epoch [8/10], train_loss:0.0059, val_loss:0.0059\n"
     ]
    },
    {
     "name": "stderr",
     "output_type": "stream",
     "text": [
      "100%|=============================================================================| 166/166 [01:58<00:00,  1.41batch/s]\n"
     ]
    },
    {
     "name": "stdout",
     "output_type": "stream",
     "text": [
      "epoch [9/10], train_loss:0.0059, val_loss:0.0059\n"
     ]
    },
    {
     "name": "stderr",
     "output_type": "stream",
     "text": [
      "100%|=============================================================================| 166/166 [01:56<00:00,  1.43batch/s]\n"
     ]
    },
    {
     "name": "stdout",
     "output_type": "stream",
     "text": [
      "epoch [10/10], train_loss:0.0058, val_loss:0.0059\n",
      "Train model for segment 1\n"
     ]
    },
    {
     "name": "stderr",
     "output_type": "stream",
     "text": [
      "100%|=============================================================================| 166/166 [01:57<00:00,  1.42batch/s]\n"
     ]
    },
    {
     "name": "stdout",
     "output_type": "stream",
     "text": [
      "epoch [1/10], train_loss:0.0453, val_loss:0.0039\n"
     ]
    },
    {
     "name": "stderr",
     "output_type": "stream",
     "text": [
      "100%|=============================================================================| 166/166 [01:55<00:00,  1.44batch/s]\n"
     ]
    },
    {
     "name": "stdout",
     "output_type": "stream",
     "text": [
      "epoch [2/10], train_loss:0.0035, val_loss:0.0033\n"
     ]
    },
    {
     "name": "stderr",
     "output_type": "stream",
     "text": [
      "100%|=============================================================================| 166/166 [01:55<00:00,  1.44batch/s]\n"
     ]
    },
    {
     "name": "stdout",
     "output_type": "stream",
     "text": [
      "epoch [3/10], train_loss:0.0032, val_loss:0.0032\n"
     ]
    },
    {
     "name": "stderr",
     "output_type": "stream",
     "text": [
      "100%|=============================================================================| 166/166 [01:59<00:00,  1.39batch/s]\n"
     ]
    },
    {
     "name": "stdout",
     "output_type": "stream",
     "text": [
      "epoch [4/10], train_loss:0.0031, val_loss:0.0031\n"
     ]
    },
    {
     "name": "stderr",
     "output_type": "stream",
     "text": [
      "100%|=============================================================================| 166/166 [02:00<00:00,  1.37batch/s]\n"
     ]
    },
    {
     "name": "stdout",
     "output_type": "stream",
     "text": [
      "epoch [5/10], train_loss:0.0030, val_loss:0.0030\n"
     ]
    },
    {
     "name": "stderr",
     "output_type": "stream",
     "text": [
      "100%|=============================================================================| 166/166 [02:00<00:00,  1.38batch/s]\n"
     ]
    },
    {
     "name": "stdout",
     "output_type": "stream",
     "text": [
      "epoch [6/10], train_loss:0.0029, val_loss:0.0030\n"
     ]
    },
    {
     "name": "stderr",
     "output_type": "stream",
     "text": [
      "100%|=============================================================================| 166/166 [01:59<00:00,  1.38batch/s]\n"
     ]
    },
    {
     "name": "stdout",
     "output_type": "stream",
     "text": [
      "epoch [7/10], train_loss:0.0029, val_loss:0.0029\n"
     ]
    },
    {
     "name": "stderr",
     "output_type": "stream",
     "text": [
      "100%|=============================================================================| 166/166 [01:57<00:00,  1.42batch/s]\n"
     ]
    },
    {
     "name": "stdout",
     "output_type": "stream",
     "text": [
      "epoch [8/10], train_loss:0.0029, val_loss:0.0029\n"
     ]
    },
    {
     "name": "stderr",
     "output_type": "stream",
     "text": [
      "100%|=============================================================================| 166/166 [02:11<00:00,  1.26batch/s]\n"
     ]
    },
    {
     "name": "stdout",
     "output_type": "stream",
     "text": [
      "epoch [9/10], train_loss:0.0029, val_loss:0.0029\n"
     ]
    },
    {
     "name": "stderr",
     "output_type": "stream",
     "text": [
      "100%|=============================================================================| 166/166 [02:17<00:00,  1.21batch/s]\n"
     ]
    },
    {
     "name": "stdout",
     "output_type": "stream",
     "text": [
      "epoch [10/10], train_loss:0.0029, val_loss:0.0029\n",
      "Train model for segment 2\n"
     ]
    },
    {
     "name": "stderr",
     "output_type": "stream",
     "text": [
      "100%|=============================================================================| 166/166 [02:17<00:00,  1.21batch/s]\n"
     ]
    },
    {
     "name": "stdout",
     "output_type": "stream",
     "text": [
      "epoch [1/10], train_loss:0.0841, val_loss:0.0054\n"
     ]
    },
    {
     "name": "stderr",
     "output_type": "stream",
     "text": [
      "100%|=============================================================================| 166/166 [02:19<00:00,  1.19batch/s]\n"
     ]
    },
    {
     "name": "stdout",
     "output_type": "stream",
     "text": [
      "epoch [2/10], train_loss:0.0050, val_loss:0.0048\n"
     ]
    },
    {
     "name": "stderr",
     "output_type": "stream",
     "text": [
      "100%|=============================================================================| 166/166 [02:19<00:00,  1.19batch/s]\n"
     ]
    },
    {
     "name": "stdout",
     "output_type": "stream",
     "text": [
      "epoch [3/10], train_loss:0.0047, val_loss:0.0046\n"
     ]
    },
    {
     "name": "stderr",
     "output_type": "stream",
     "text": [
      "100%|=============================================================================| 166/166 [02:19<00:00,  1.19batch/s]\n"
     ]
    },
    {
     "name": "stdout",
     "output_type": "stream",
     "text": [
      "epoch [4/10], train_loss:0.0045, val_loss:0.0046\n"
     ]
    },
    {
     "name": "stderr",
     "output_type": "stream",
     "text": [
      "100%|=============================================================================| 166/166 [02:18<00:00,  1.19batch/s]\n"
     ]
    },
    {
     "name": "stdout",
     "output_type": "stream",
     "text": [
      "epoch [5/10], train_loss:0.0044, val_loss:0.0045\n"
     ]
    },
    {
     "name": "stderr",
     "output_type": "stream",
     "text": [
      "100%|=============================================================================| 166/166 [02:19<00:00,  1.19batch/s]\n"
     ]
    },
    {
     "name": "stdout",
     "output_type": "stream",
     "text": [
      "epoch [6/10], train_loss:0.0043, val_loss:0.0043\n"
     ]
    },
    {
     "name": "stderr",
     "output_type": "stream",
     "text": [
      "100%|=============================================================================| 166/166 [02:19<00:00,  1.19batch/s]\n"
     ]
    },
    {
     "name": "stdout",
     "output_type": "stream",
     "text": [
      "epoch [7/10], train_loss:0.0042, val_loss:0.0041\n"
     ]
    },
    {
     "name": "stderr",
     "output_type": "stream",
     "text": [
      "100%|=============================================================================| 166/166 [02:20<00:00,  1.18batch/s]\n"
     ]
    },
    {
     "name": "stdout",
     "output_type": "stream",
     "text": [
      "epoch [8/10], train_loss:0.0041, val_loss:0.0041\n"
     ]
    },
    {
     "name": "stderr",
     "output_type": "stream",
     "text": [
      "100%|=============================================================================| 166/166 [02:20<00:00,  1.19batch/s]\n"
     ]
    },
    {
     "name": "stdout",
     "output_type": "stream",
     "text": [
      "epoch [9/10], train_loss:0.0041, val_loss:0.0040\n"
     ]
    },
    {
     "name": "stderr",
     "output_type": "stream",
     "text": [
      "100%|=============================================================================| 166/166 [02:19<00:00,  1.19batch/s]\n"
     ]
    },
    {
     "name": "stdout",
     "output_type": "stream",
     "text": [
      "epoch [10/10], train_loss:0.0040, val_loss:0.0040\n",
      "Train model for segment 3\n"
     ]
    },
    {
     "name": "stderr",
     "output_type": "stream",
     "text": [
      "100%|=============================================================================| 166/166 [02:19<00:00,  1.19batch/s]\n"
     ]
    },
    {
     "name": "stdout",
     "output_type": "stream",
     "text": [
      "epoch [1/10], train_loss:0.0450, val_loss:0.0012\n"
     ]
    },
    {
     "name": "stderr",
     "output_type": "stream",
     "text": [
      "100%|=============================================================================| 166/166 [02:19<00:00,  1.19batch/s]\n"
     ]
    },
    {
     "name": "stdout",
     "output_type": "stream",
     "text": [
      "epoch [2/10], train_loss:0.0009, val_loss:0.0007\n"
     ]
    },
    {
     "name": "stderr",
     "output_type": "stream",
     "text": [
      "100%|=============================================================================| 166/166 [02:19<00:00,  1.19batch/s]\n"
     ]
    },
    {
     "name": "stdout",
     "output_type": "stream",
     "text": [
      "epoch [3/10], train_loss:0.0006, val_loss:0.0006\n"
     ]
    },
    {
     "name": "stderr",
     "output_type": "stream",
     "text": [
      "100%|=============================================================================| 166/166 [02:21<00:00,  1.18batch/s]\n"
     ]
    },
    {
     "name": "stdout",
     "output_type": "stream",
     "text": [
      "epoch [4/10], train_loss:0.0005, val_loss:0.0005\n"
     ]
    },
    {
     "name": "stderr",
     "output_type": "stream",
     "text": [
      "100%|=============================================================================| 166/166 [02:18<00:00,  1.19batch/s]\n"
     ]
    },
    {
     "name": "stdout",
     "output_type": "stream",
     "text": [
      "epoch [5/10], train_loss:0.0005, val_loss:0.0005\n"
     ]
    },
    {
     "name": "stderr",
     "output_type": "stream",
     "text": [
      "100%|=============================================================================| 166/166 [02:18<00:00,  1.20batch/s]\n"
     ]
    },
    {
     "name": "stdout",
     "output_type": "stream",
     "text": [
      "epoch [6/10], train_loss:0.0004, val_loss:0.0004\n"
     ]
    },
    {
     "name": "stderr",
     "output_type": "stream",
     "text": [
      "100%|=============================================================================| 166/166 [02:19<00:00,  1.19batch/s]\n"
     ]
    },
    {
     "name": "stdout",
     "output_type": "stream",
     "text": [
      "epoch [7/10], train_loss:0.0004, val_loss:0.0004\n"
     ]
    },
    {
     "name": "stderr",
     "output_type": "stream",
     "text": [
      "100%|=============================================================================| 166/166 [02:20<00:00,  1.18batch/s]\n"
     ]
    },
    {
     "name": "stdout",
     "output_type": "stream",
     "text": [
      "epoch [8/10], train_loss:0.0004, val_loss:0.0004\n"
     ]
    },
    {
     "name": "stderr",
     "output_type": "stream",
     "text": [
      "100%|=============================================================================| 166/166 [02:20<00:00,  1.18batch/s]\n"
     ]
    },
    {
     "name": "stdout",
     "output_type": "stream",
     "text": [
      "epoch [9/10], train_loss:0.0004, val_loss:0.0004\n"
     ]
    },
    {
     "name": "stderr",
     "output_type": "stream",
     "text": [
      "100%|=============================================================================| 166/166 [02:20<00:00,  1.19batch/s]\n"
     ]
    },
    {
     "name": "stdout",
     "output_type": "stream",
     "text": [
      "epoch [10/10], train_loss:0.0004, val_loss:0.0004\n",
      "Train model for segment 4\n"
     ]
    },
    {
     "name": "stderr",
     "output_type": "stream",
     "text": [
      "100%|=============================================================================| 166/166 [02:20<00:00,  1.18batch/s]\n"
     ]
    },
    {
     "name": "stdout",
     "output_type": "stream",
     "text": [
      "epoch [1/10], train_loss:0.0226, val_loss:0.0015\n"
     ]
    },
    {
     "name": "stderr",
     "output_type": "stream",
     "text": [
      "100%|=============================================================================| 166/166 [02:19<00:00,  1.19batch/s]\n"
     ]
    },
    {
     "name": "stdout",
     "output_type": "stream",
     "text": [
      "epoch [2/10], train_loss:0.0010, val_loss:0.0009\n"
     ]
    },
    {
     "name": "stderr",
     "output_type": "stream",
     "text": [
      "100%|=============================================================================| 166/166 [02:19<00:00,  1.19batch/s]\n"
     ]
    },
    {
     "name": "stdout",
     "output_type": "stream",
     "text": [
      "epoch [3/10], train_loss:0.0008, val_loss:0.0007\n"
     ]
    },
    {
     "name": "stderr",
     "output_type": "stream",
     "text": [
      "100%|=============================================================================| 166/166 [02:19<00:00,  1.19batch/s]\n"
     ]
    },
    {
     "name": "stdout",
     "output_type": "stream",
     "text": [
      "epoch [4/10], train_loss:0.0007, val_loss:0.0007\n"
     ]
    },
    {
     "name": "stderr",
     "output_type": "stream",
     "text": [
      "100%|=============================================================================| 166/166 [02:19<00:00,  1.19batch/s]\n"
     ]
    },
    {
     "name": "stdout",
     "output_type": "stream",
     "text": [
      "epoch [5/10], train_loss:0.0006, val_loss:0.0006\n"
     ]
    },
    {
     "name": "stderr",
     "output_type": "stream",
     "text": [
      "100%|=============================================================================| 166/166 [02:20<00:00,  1.18batch/s]\n"
     ]
    },
    {
     "name": "stdout",
     "output_type": "stream",
     "text": [
      "epoch [6/10], train_loss:0.0006, val_loss:0.0006\n"
     ]
    },
    {
     "name": "stderr",
     "output_type": "stream",
     "text": [
      "100%|=============================================================================| 166/166 [02:20<00:00,  1.18batch/s]\n"
     ]
    },
    {
     "name": "stdout",
     "output_type": "stream",
     "text": [
      "epoch [7/10], train_loss:0.0006, val_loss:0.0006\n"
     ]
    },
    {
     "name": "stderr",
     "output_type": "stream",
     "text": [
      "100%|=============================================================================| 166/166 [02:20<00:00,  1.18batch/s]\n"
     ]
    },
    {
     "name": "stdout",
     "output_type": "stream",
     "text": [
      "epoch [8/10], train_loss:0.0006, val_loss:0.0006\n"
     ]
    },
    {
     "name": "stderr",
     "output_type": "stream",
     "text": [
      "100%|=============================================================================| 166/166 [02:21<00:00,  1.18batch/s]\n"
     ]
    },
    {
     "name": "stdout",
     "output_type": "stream",
     "text": [
      "epoch [9/10], train_loss:0.0005, val_loss:0.0006\n"
     ]
    },
    {
     "name": "stderr",
     "output_type": "stream",
     "text": [
      "100%|=============================================================================| 166/166 [02:20<00:00,  1.18batch/s]\n"
     ]
    },
    {
     "name": "stdout",
     "output_type": "stream",
     "text": [
      "epoch [10/10], train_loss:0.0005, val_loss:0.0006\n",
      "Train model for segment 5\n"
     ]
    },
    {
     "name": "stderr",
     "output_type": "stream",
     "text": [
      "100%|=============================================================================| 166/166 [02:20<00:00,  1.18batch/s]\n"
     ]
    },
    {
     "name": "stdout",
     "output_type": "stream",
     "text": [
      "epoch [1/10], train_loss:0.0308, val_loss:0.0007\n"
     ]
    },
    {
     "name": "stderr",
     "output_type": "stream",
     "text": [
      "100%|=============================================================================| 166/166 [02:19<00:00,  1.19batch/s]\n"
     ]
    },
    {
     "name": "stdout",
     "output_type": "stream",
     "text": [
      "epoch [2/10], train_loss:0.0005, val_loss:0.0004\n"
     ]
    },
    {
     "name": "stderr",
     "output_type": "stream",
     "text": [
      "100%|=============================================================================| 166/166 [02:20<00:00,  1.18batch/s]\n"
     ]
    },
    {
     "name": "stdout",
     "output_type": "stream",
     "text": [
      "epoch [3/10], train_loss:0.0004, val_loss:0.0004\n"
     ]
    },
    {
     "name": "stderr",
     "output_type": "stream",
     "text": [
      "100%|=============================================================================| 166/166 [02:20<00:00,  1.18batch/s]\n"
     ]
    },
    {
     "name": "stdout",
     "output_type": "stream",
     "text": [
      "epoch [4/10], train_loss:0.0003, val_loss:0.0003\n"
     ]
    },
    {
     "name": "stderr",
     "output_type": "stream",
     "text": [
      "100%|=============================================================================| 166/166 [02:20<00:00,  1.18batch/s]\n"
     ]
    },
    {
     "name": "stdout",
     "output_type": "stream",
     "text": [
      "epoch [5/10], train_loss:0.0003, val_loss:0.0003\n"
     ]
    },
    {
     "name": "stderr",
     "output_type": "stream",
     "text": [
      "100%|=============================================================================| 166/166 [02:20<00:00,  1.18batch/s]\n"
     ]
    },
    {
     "name": "stdout",
     "output_type": "stream",
     "text": [
      "epoch [6/10], train_loss:0.0003, val_loss:0.0003\n"
     ]
    },
    {
     "name": "stderr",
     "output_type": "stream",
     "text": [
      "100%|=============================================================================| 166/166 [02:20<00:00,  1.18batch/s]\n"
     ]
    },
    {
     "name": "stdout",
     "output_type": "stream",
     "text": [
      "epoch [7/10], train_loss:0.0003, val_loss:0.0003\n"
     ]
    },
    {
     "name": "stderr",
     "output_type": "stream",
     "text": [
      "100%|=============================================================================| 166/166 [02:20<00:00,  1.18batch/s]\n"
     ]
    },
    {
     "name": "stdout",
     "output_type": "stream",
     "text": [
      "epoch [8/10], train_loss:0.0003, val_loss:0.0003\n"
     ]
    },
    {
     "name": "stderr",
     "output_type": "stream",
     "text": [
      "100%|=============================================================================| 166/166 [02:21<00:00,  1.18batch/s]\n"
     ]
    },
    {
     "name": "stdout",
     "output_type": "stream",
     "text": [
      "epoch [9/10], train_loss:0.0003, val_loss:0.0003\n"
     ]
    },
    {
     "name": "stderr",
     "output_type": "stream",
     "text": [
      "100%|=============================================================================| 166/166 [02:21<00:00,  1.18batch/s]\n"
     ]
    },
    {
     "name": "stdout",
     "output_type": "stream",
     "text": [
      "epoch [10/10], train_loss:0.0003, val_loss:0.0003\n",
      "Train model for segment 6\n"
     ]
    },
    {
     "name": "stderr",
     "output_type": "stream",
     "text": [
      "100%|=============================================================================| 166/166 [02:20<00:00,  1.18batch/s]\n"
     ]
    },
    {
     "name": "stdout",
     "output_type": "stream",
     "text": [
      "epoch [1/10], train_loss:0.0275, val_loss:0.0008\n"
     ]
    },
    {
     "name": "stderr",
     "output_type": "stream",
     "text": [
      "100%|=============================================================================| 166/166 [02:18<00:00,  1.20batch/s]\n"
     ]
    },
    {
     "name": "stdout",
     "output_type": "stream",
     "text": [
      "epoch [2/10], train_loss:0.0007, val_loss:0.0007\n"
     ]
    },
    {
     "name": "stderr",
     "output_type": "stream",
     "text": [
      "100%|=============================================================================| 166/166 [02:20<00:00,  1.18batch/s]\n"
     ]
    },
    {
     "name": "stdout",
     "output_type": "stream",
     "text": [
      "epoch [3/10], train_loss:0.0007, val_loss:0.0007\n"
     ]
    },
    {
     "name": "stderr",
     "output_type": "stream",
     "text": [
      "100%|=============================================================================| 166/166 [02:20<00:00,  1.18batch/s]\n"
     ]
    },
    {
     "name": "stdout",
     "output_type": "stream",
     "text": [
      "epoch [4/10], train_loss:0.0006, val_loss:0.0006\n"
     ]
    },
    {
     "name": "stderr",
     "output_type": "stream",
     "text": [
      "100%|=============================================================================| 166/166 [02:21<00:00,  1.17batch/s]\n"
     ]
    },
    {
     "name": "stdout",
     "output_type": "stream",
     "text": [
      "epoch [5/10], train_loss:0.0006, val_loss:0.0006\n"
     ]
    },
    {
     "name": "stderr",
     "output_type": "stream",
     "text": [
      "100%|=============================================================================| 166/166 [02:21<00:00,  1.18batch/s]\n"
     ]
    },
    {
     "name": "stdout",
     "output_type": "stream",
     "text": [
      "epoch [6/10], train_loss:0.0006, val_loss:0.0006\n"
     ]
    },
    {
     "name": "stderr",
     "output_type": "stream",
     "text": [
      "100%|=============================================================================| 166/166 [02:21<00:00,  1.18batch/s]\n"
     ]
    },
    {
     "name": "stdout",
     "output_type": "stream",
     "text": [
      "epoch [7/10], train_loss:0.0005, val_loss:0.0005\n"
     ]
    },
    {
     "name": "stderr",
     "output_type": "stream",
     "text": [
      "100%|=============================================================================| 166/166 [02:20<00:00,  1.18batch/s]\n"
     ]
    },
    {
     "name": "stdout",
     "output_type": "stream",
     "text": [
      "epoch [8/10], train_loss:0.0005, val_loss:0.0005\n"
     ]
    },
    {
     "name": "stderr",
     "output_type": "stream",
     "text": [
      "100%|=============================================================================| 166/166 [02:20<00:00,  1.18batch/s]\n"
     ]
    },
    {
     "name": "stdout",
     "output_type": "stream",
     "text": [
      "epoch [9/10], train_loss:0.0004, val_loss:0.0004\n"
     ]
    },
    {
     "name": "stderr",
     "output_type": "stream",
     "text": [
      "100%|=============================================================================| 166/166 [02:20<00:00,  1.18batch/s]\n"
     ]
    },
    {
     "name": "stdout",
     "output_type": "stream",
     "text": [
      "epoch [10/10], train_loss:0.0004, val_loss:0.0004\n",
      "Train model for segment 7\n"
     ]
    },
    {
     "name": "stderr",
     "output_type": "stream",
     "text": [
      "100%|=============================================================================| 166/166 [02:21<00:00,  1.17batch/s]\n"
     ]
    },
    {
     "name": "stdout",
     "output_type": "stream",
     "text": [
      "epoch [1/10], train_loss:0.0423, val_loss:0.0004\n"
     ]
    },
    {
     "name": "stderr",
     "output_type": "stream",
     "text": [
      "100%|=============================================================================| 166/166 [02:21<00:00,  1.17batch/s]\n"
     ]
    },
    {
     "name": "stdout",
     "output_type": "stream",
     "text": [
      "epoch [2/10], train_loss:0.0003, val_loss:0.0002\n"
     ]
    },
    {
     "name": "stderr",
     "output_type": "stream",
     "text": [
      "100%|=============================================================================| 166/166 [02:20<00:00,  1.19batch/s]\n"
     ]
    },
    {
     "name": "stdout",
     "output_type": "stream",
     "text": [
      "epoch [3/10], train_loss:0.0002, val_loss:0.0001\n"
     ]
    },
    {
     "name": "stderr",
     "output_type": "stream",
     "text": [
      "100%|=============================================================================| 166/166 [02:20<00:00,  1.18batch/s]\n"
     ]
    },
    {
     "name": "stdout",
     "output_type": "stream",
     "text": [
      "epoch [4/10], train_loss:0.0001, val_loss:0.0001\n"
     ]
    },
    {
     "name": "stderr",
     "output_type": "stream",
     "text": [
      "100%|=============================================================================| 166/166 [02:20<00:00,  1.18batch/s]\n"
     ]
    },
    {
     "name": "stdout",
     "output_type": "stream",
     "text": [
      "epoch [5/10], train_loss:0.0001, val_loss:0.0001\n"
     ]
    },
    {
     "name": "stderr",
     "output_type": "stream",
     "text": [
      "100%|=============================================================================| 166/166 [02:20<00:00,  1.18batch/s]\n"
     ]
    },
    {
     "name": "stdout",
     "output_type": "stream",
     "text": [
      "epoch [6/10], train_loss:0.0001, val_loss:0.0001\n"
     ]
    },
    {
     "name": "stderr",
     "output_type": "stream",
     "text": [
      "100%|=============================================================================| 166/166 [02:21<00:00,  1.18batch/s]\n"
     ]
    },
    {
     "name": "stdout",
     "output_type": "stream",
     "text": [
      "epoch [7/10], train_loss:0.0001, val_loss:0.0001\n"
     ]
    },
    {
     "name": "stderr",
     "output_type": "stream",
     "text": [
      "100%|=============================================================================| 166/166 [02:20<00:00,  1.18batch/s]\n"
     ]
    },
    {
     "name": "stdout",
     "output_type": "stream",
     "text": [
      "epoch [8/10], train_loss:0.0001, val_loss:0.0001\n"
     ]
    },
    {
     "name": "stderr",
     "output_type": "stream",
     "text": [
      "100%|=============================================================================| 166/166 [02:21<00:00,  1.17batch/s]\n"
     ]
    },
    {
     "name": "stdout",
     "output_type": "stream",
     "text": [
      "epoch [9/10], train_loss:0.0001, val_loss:0.0001\n"
     ]
    },
    {
     "name": "stderr",
     "output_type": "stream",
     "text": [
      "100%|=============================================================================| 166/166 [02:21<00:00,  1.18batch/s]\n"
     ]
    },
    {
     "name": "stdout",
     "output_type": "stream",
     "text": [
      "epoch [10/10], train_loss:0.0001, val_loss:0.0001\n",
      "Train model for segment 8\n"
     ]
    },
    {
     "name": "stderr",
     "output_type": "stream",
     "text": [
      "100%|=============================================================================| 166/166 [02:21<00:00,  1.17batch/s]\n"
     ]
    },
    {
     "name": "stdout",
     "output_type": "stream",
     "text": [
      "epoch [1/10], train_loss:0.0307, val_loss:0.0007\n"
     ]
    },
    {
     "name": "stderr",
     "output_type": "stream",
     "text": [
      "100%|=============================================================================| 166/166 [02:21<00:00,  1.18batch/s]\n"
     ]
    },
    {
     "name": "stdout",
     "output_type": "stream",
     "text": [
      "epoch [2/10], train_loss:0.0004, val_loss:0.0003\n"
     ]
    },
    {
     "name": "stderr",
     "output_type": "stream",
     "text": [
      "100%|=============================================================================| 166/166 [02:21<00:00,  1.17batch/s]\n"
     ]
    },
    {
     "name": "stdout",
     "output_type": "stream",
     "text": [
      "epoch [3/10], train_loss:0.0002, val_loss:0.0002\n"
     ]
    },
    {
     "name": "stderr",
     "output_type": "stream",
     "text": [
      "100%|=============================================================================| 166/166 [02:21<00:00,  1.18batch/s]\n"
     ]
    },
    {
     "name": "stdout",
     "output_type": "stream",
     "text": [
      "epoch [4/10], train_loss:0.0002, val_loss:0.0002\n"
     ]
    },
    {
     "name": "stderr",
     "output_type": "stream",
     "text": [
      "100%|=============================================================================| 166/166 [02:21<00:00,  1.17batch/s]\n"
     ]
    },
    {
     "name": "stdout",
     "output_type": "stream",
     "text": [
      "epoch [5/10], train_loss:0.0001, val_loss:0.0001\n"
     ]
    },
    {
     "name": "stderr",
     "output_type": "stream",
     "text": [
      "100%|=============================================================================| 166/166 [02:21<00:00,  1.17batch/s]\n"
     ]
    },
    {
     "name": "stdout",
     "output_type": "stream",
     "text": [
      "epoch [6/10], train_loss:0.0001, val_loss:0.0001\n"
     ]
    },
    {
     "name": "stderr",
     "output_type": "stream",
     "text": [
      "100%|=============================================================================| 166/166 [02:21<00:00,  1.17batch/s]\n"
     ]
    },
    {
     "name": "stdout",
     "output_type": "stream",
     "text": [
      "epoch [7/10], train_loss:0.0001, val_loss:0.0001\n"
     ]
    },
    {
     "name": "stderr",
     "output_type": "stream",
     "text": [
      "100%|=============================================================================| 166/166 [02:21<00:00,  1.18batch/s]\n"
     ]
    },
    {
     "name": "stdout",
     "output_type": "stream",
     "text": [
      "epoch [8/10], train_loss:0.0001, val_loss:0.0001\n"
     ]
    },
    {
     "name": "stderr",
     "output_type": "stream",
     "text": [
      "100%|=============================================================================| 166/166 [02:21<00:00,  1.17batch/s]\n"
     ]
    },
    {
     "name": "stdout",
     "output_type": "stream",
     "text": [
      "epoch [9/10], train_loss:0.0001, val_loss:0.0001\n"
     ]
    },
    {
     "name": "stderr",
     "output_type": "stream",
     "text": [
      "100%|=============================================================================| 166/166 [02:21<00:00,  1.17batch/s]\n"
     ]
    },
    {
     "name": "stdout",
     "output_type": "stream",
     "text": [
      "epoch [10/10], train_loss:0.0001, val_loss:0.0001\n"
     ]
    }
   ],
   "source": [
    "for segment_number in range(0, len(segments)):\n",
    "    print(f\"Train model for segment {segment_number}\")\n",
    "    \n",
    "    # Load data for segment\n",
    "    train = Data3DSingleSegT2(l1_dir, l1_seg_vol_dir, train_indices, segment=segment_number)\n",
    "    val = Data3DSingleSegT2(l1_dir, l1_seg_vol_dir, val_indices, segment=segment_number)\n",
    "    test = Data3DSingleSegT2(l5_dir, l5_seg_vol_dir, test_indices, segment=segment_number)\n",
    "\n",
    "    batch_size = 1\n",
    "    train_loader = DataLoader(train, batch_size=batch_size)#, num_workers=1)\n",
    "    val_loader = DataLoader(val, batch_size=batch_size)#, num_workers=1)\n",
    "    \n",
    "    # Define output paths now :)\n",
    "    model_path = os.path.join(model_dir, f\"vae_rel2t2_seg{segment_number}.pt\")\n",
    "    \n",
    "    # Define the model\n",
    "    model = VAESegment(1, 1)\n",
    "    model.cuda()\n",
    "    criterion = nn.MSELoss()\n",
    "    learning_rate = 1e-3\n",
    "    optimizer = torch.optim.Adam(model.parameters(), lr=learning_rate, eps=1e-07)\n",
    "    \n",
    "    # Train the model\n",
    "    num_epochs = 10\n",
    "    for epoch in range(num_epochs):\n",
    "        total_loss = 0\n",
    "        with tqdm(train_loader, unit=\"batch\", ascii=' >=') as tepoch:\n",
    "            model.train()\n",
    "            data_counter = 0\n",
    "            for data in tepoch:\n",
    "                # clear gradients\n",
    "                optimizer.zero_grad()\n",
    "\n",
    "                # forward\n",
    "                x, y = data\n",
    "                x = x.cuda()\n",
    "                y = y.cuda()\n",
    "                output = model(x)\n",
    "                loss = criterion(y, output)\n",
    "\n",
    "                # backward\n",
    "                loss.backward()\n",
    "                optimizer.step()\n",
    "\n",
    "                total_loss += loss.data\n",
    "                data_counter += 1\n",
    "\n",
    "            total_loss /= data_counter\n",
    "\n",
    "            tepoch.set_postfix(loss=loss.item())\n",
    "            val_loss = 0\n",
    "            model.eval()\n",
    "            data_counter = 0\n",
    "            for data in val_loader:\n",
    "                with torch.no_grad():\n",
    "                    x, y = data\n",
    "                    x = x.cuda()\n",
    "                    y = y.cuda()\n",
    "                    output = model(x)\n",
    "                    loss = criterion(y, output)\n",
    "\n",
    "                    val_loss += loss.data\n",
    "                    data_counter += 1\n",
    "            \n",
    "            val_loss /= data_counter\n",
    "            \n",
    "            print('epoch [{}/{}], train_loss:{:.4f}, val_loss:{:.4f}'\n",
    "              .format(epoch+1, num_epochs, total_loss, val_loss))\n",
    "        \n",
    "    torch.save(model.state_dict(), model_path)"
   ]
  },
  {
   "cell_type": "code",
   "execution_count": 6,
   "id": "cfa425c0-cf27-4194-8489-4ef05250c1f4",
   "metadata": {},
   "outputs": [
    {
     "data": {
      "text/plain": [
       "VAESegment(\n",
       "  (model): Sequential(\n",
       "    (0): ResnetEncoder(\n",
       "      (pass1): Sequential(\n",
       "        (0): InstanceNorm3d(1, eps=1e-05, momentum=0.1, affine=False, track_running_stats=False)\n",
       "        (1): ReLU()\n",
       "        (2): Conv3d(1, 32, kernel_size=(3, 3, 3), stride=(2, 2, 2), padding=(1, 1, 1))\n",
       "      )\n",
       "      (pass2): Sequential(\n",
       "        (0): InstanceNorm3d(32, eps=1e-05, momentum=0.1, affine=False, track_running_stats=False)\n",
       "        (1): ReLU()\n",
       "        (2): Conv3d(32, 32, kernel_size=(3, 3, 3), stride=(2, 2, 2), padding=(1, 1, 1))\n",
       "      )\n",
       "      (conv_bypass): Conv3d(1, 32, kernel_size=(3, 3, 3), stride=(4, 4, 4))\n",
       "      (activation_bypass): ReLU()\n",
       "    )\n",
       "    (1): ResnetEncoder(\n",
       "      (pass1): Sequential(\n",
       "        (0): InstanceNorm3d(32, eps=1e-05, momentum=0.1, affine=False, track_running_stats=False)\n",
       "        (1): ReLU()\n",
       "        (2): Conv3d(32, 32, kernel_size=(3, 3, 3), stride=(2, 2, 2), padding=(1, 1, 1))\n",
       "      )\n",
       "      (pass2): Sequential(\n",
       "        (0): InstanceNorm3d(32, eps=1e-05, momentum=0.1, affine=False, track_running_stats=False)\n",
       "        (1): ReLU()\n",
       "        (2): Conv3d(32, 32, kernel_size=(3, 3, 3), stride=(2, 2, 2), padding=(1, 1, 1))\n",
       "      )\n",
       "      (conv_bypass): Conv3d(32, 32, kernel_size=(3, 3, 3), stride=(4, 4, 4))\n",
       "      (activation_bypass): ReLU()\n",
       "    )\n",
       "    (2): ResnetEncoderHalf(\n",
       "      (pass1): Sequential(\n",
       "        (0): InstanceNorm3d(32, eps=1e-05, momentum=0.1, affine=False, track_running_stats=False)\n",
       "        (1): ReLU()\n",
       "        (2): Conv3d(32, 32, kernel_size=(3, 3, 3), stride=(2, 2, 2), padding=(1, 1, 1))\n",
       "      )\n",
       "      (conv_bypass): Conv3d(32, 32, kernel_size=(3, 3, 3), stride=(2, 2, 2), padding=(1, 1, 1))\n",
       "      (activation_bypass): ReLU()\n",
       "    )\n",
       "    (3): VariationalLatent(\n",
       "      (flatten): Flatten(start_dim=1, end_dim=-1)\n",
       "      (norm1): InstanceNorm1d(16384, eps=1e-05, momentum=0.1, affine=False, track_running_stats=False)\n",
       "      (norm2): InstanceNorm1d(16384, eps=1e-05, momentum=0.1, affine=False, track_running_stats=False)\n",
       "      (mu): Linear(in_features=16384, out_features=512, bias=True)\n",
       "      (sigma): Linear(in_features=16384, out_features=512, bias=True)\n",
       "      (dense_out): Linear(in_features=512, out_features=16384, bias=True)\n",
       "      (unflatten): Unflatten(dim=-1, unflattened_size=(32, 8, 8, 8))\n",
       "    )\n",
       "    (4): ResnetDecoderHalf(\n",
       "      (pass1): Sequential(\n",
       "        (0): InstanceNorm3d(32, eps=1e-05, momentum=0.1, affine=False, track_running_stats=False)\n",
       "        (1): ReLU()\n",
       "        (2): UpConv3d(\n",
       "          (up): Sequential(\n",
       "            (0): Conv3d(32, 32, kernel_size=(3, 3, 3), stride=(2, 2, 2), padding=(1, 1, 1))\n",
       "            (1): Upsample(scale_factor=4.0, mode=trilinear)\n",
       "          )\n",
       "        )\n",
       "      )\n",
       "      (conv_bypass): ConvTranspose3d(32, 32, kernel_size=(2, 2, 2), stride=(2, 2, 2))\n",
       "      (relu_bypass): ReLU()\n",
       "    )\n",
       "    (5): ResnetDecoder(\n",
       "      (pass1): Sequential(\n",
       "        (0): InstanceNorm3d(32, eps=1e-05, momentum=0.1, affine=False, track_running_stats=False)\n",
       "        (1): ReLU()\n",
       "        (2): UpConv3d(\n",
       "          (up): Sequential(\n",
       "            (0): Conv3d(32, 32, kernel_size=(3, 3, 3), stride=(2, 2, 2), padding=(1, 1, 1))\n",
       "            (1): Upsample(scale_factor=4.0, mode=trilinear)\n",
       "          )\n",
       "        )\n",
       "      )\n",
       "      (pass2): Sequential(\n",
       "        (0): InstanceNorm3d(32, eps=1e-05, momentum=0.1, affine=False, track_running_stats=False)\n",
       "        (1): ReLU()\n",
       "        (2): UpConv3d(\n",
       "          (up): Sequential(\n",
       "            (0): Conv3d(32, 32, kernel_size=(3, 3, 3), stride=(2, 2, 2), padding=(1, 1, 1))\n",
       "            (1): Upsample(scale_factor=4.0, mode=trilinear)\n",
       "          )\n",
       "        )\n",
       "      )\n",
       "      (conv_bypass): ConvTranspose3d(32, 32, kernel_size=(4, 4, 4), stride=(4, 4, 4))\n",
       "      (relu_bypass): ReLU()\n",
       "    )\n",
       "    (6): ResnetDecoder(\n",
       "      (pass1): Sequential(\n",
       "        (0): InstanceNorm3d(32, eps=1e-05, momentum=0.1, affine=False, track_running_stats=False)\n",
       "        (1): ReLU()\n",
       "        (2): UpConv3d(\n",
       "          (up): Sequential(\n",
       "            (0): Conv3d(32, 32, kernel_size=(3, 3, 3), stride=(2, 2, 2), padding=(1, 1, 1))\n",
       "            (1): Upsample(scale_factor=4.0, mode=trilinear)\n",
       "          )\n",
       "        )\n",
       "      )\n",
       "      (pass2): Sequential(\n",
       "        (0): InstanceNorm3d(32, eps=1e-05, momentum=0.1, affine=False, track_running_stats=False)\n",
       "        (1): ReLU()\n",
       "        (2): UpConv3d(\n",
       "          (up): Sequential(\n",
       "            (0): Conv3d(32, 32, kernel_size=(3, 3, 3), stride=(2, 2, 2), padding=(1, 1, 1))\n",
       "            (1): Upsample(scale_factor=4.0, mode=trilinear)\n",
       "          )\n",
       "        )\n",
       "      )\n",
       "      (conv_bypass): ConvTranspose3d(32, 32, kernel_size=(4, 4, 4), stride=(4, 4, 4))\n",
       "      (relu_bypass): ReLU()\n",
       "    )\n",
       "    (7): ConvTranspose3d(32, 1, kernel_size=(1, 1, 1), stride=(1, 1, 1))\n",
       "  )\n",
       ")"
      ]
     },
     "execution_count": 6,
     "metadata": {},
     "output_type": "execute_result"
    }
   ],
   "source": [
    "model"
   ]
  },
  {
   "cell_type": "code",
   "execution_count": null,
   "id": "9d1bef44-8611-4d97-8950-561b4fdd92b1",
   "metadata": {},
   "outputs": [],
   "source": []
  }
 ],
 "metadata": {
  "kernelspec": {
   "display_name": "Python 3 (ipykernel)",
   "language": "python",
   "name": "python3"
  },
  "language_info": {
   "codemirror_mode": {
    "name": "ipython",
    "version": 3
   },
   "file_extension": ".py",
   "mimetype": "text/x-python",
   "name": "python",
   "nbconvert_exporter": "python",
   "pygments_lexer": "ipython3",
   "version": "3.9.15"
  }
 },
 "nbformat": 4,
 "nbformat_minor": 5
}
